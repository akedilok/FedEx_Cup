{
 "cells": [
  {
   "cell_type": "markdown",
   "metadata": {},
   "source": [
    "Topic: Project 2  \n",
    "Subject: Linear Regression  \n",
    "Date: 01/27/2020  \n",
    "Name: Ake Paramadilok  "
   ]
  },
  {
   "cell_type": "code",
   "execution_count": 1,
   "metadata": {},
   "outputs": [],
   "source": [
    "from bs4 import BeautifulSoup\n",
    "import requests\n",
    "import time, os\n",
    "import numpy as np\n",
    "import pandas as pd\n",
    "import pickle\n",
    "from collections import defaultdict\n",
    "from selenium import webdriver\n",
    "from selenium.webdriver.common.keys import Keys\n",
    "import seaborn as sns\n",
    "\n",
    "chromedriver = \"/Applications/chromedriver\" # path to the chromedriver executable\n",
    "os.environ[\"webdriver.chrome.driver\"] = chromedriver"
   ]
  },
  {
   "cell_type": "markdown",
   "metadata": {},
   "source": [
    "# Scrape PGAtour.com"
   ]
  },
  {
   "cell_type": "markdown",
   "metadata": {},
   "source": [
    "## Define Categories to Scrape"
   ]
  },
  {
   "cell_type": "code",
   "execution_count": 2,
   "metadata": {},
   "outputs": [],
   "source": [
    "years = ['2010','2011','2012','2013','2014','2015','2016','2017','2018','2019']\n",
    "\n",
    "stats ={\n",
    "    'FEDEX REGULAR SEASON POINTS':'https://www.pgatour.com/content/pgatour/stats/stat.02394.html',\n",
    "    'DRIVING ACCURACY PERCENTAGE':'https://www.pgatour.com/content/pgatour/stats/stat.102.html',\n",
    "    'DRIVING DISTANCE':'https://www.pgatour.com/content/pgatour/stats/stat.101.html',\n",
    "    'CLUB HEAD SPEED':'https://www.pgatour.com/content/pgatour/stats/stat.02401.html',\n",
    "    'APPROACHES FROM 100_125 YARDS':'https://www.pgatour.com/content/pgatour/stats/stat.074.html',\n",
    "    'APPROACHES FROM 125_150 YARDS':'https://www.pgatour.com/content/pgatour/stats/stat.339.html',\n",
    "    'APPROACHES FROM 150_175 YARDS':'https://www.pgatour.com/content/pgatour/stats/stat.338.html',\n",
    "    'APPROACHES FROM 175_200 YARDS':'https://www.pgatour.com/content/pgatour/stats/stat.337.html',\n",
    "    'APPROACHES FROM 200_225 YARDS':'https://www.pgatour.com/content/pgatour/stats/stat.02358.html',\n",
    "    'APPROACHES FROM 225_250 YARDS':'https://www.pgatour.com/content/pgatour/stats/stat.02359.html',\n",
    "    'APPROACHES FROM 250_275 YARDS':'https://www.pgatour.com/content/pgatour/stats/stat.02360.html',\n",
    "    'APPROACHES FROM INSIDE 100 YARDS':'https://www.pgatour.com/content/pgatour/stats/stat.02329.html',\n",
    "    'FAIRWAY PROXIMITY':'https://www.pgatour.com/content/pgatour/stats/stat.431.html',\n",
    "    'ROUGH PROXIMITY':'https://www.pgatour.com/content/pgatour/stats/stat.437.html',\n",
    "    'APPROACHES FROM 100_125 YARDS RGH':'https://www.pgatour.com/content/pgatour/stats/stat.02364.html',\n",
    "    'APPROACHES FROM 125_150 YARDS RGH':'https://www.pgatour.com/content/pgatour/stats/stat.02366.html',\n",
    "    'APPROACHES FROM 150_175 YARDS RGH':'https://www.pgatour.com/content/pgatour/stats/stat.02367.html',\n",
    "    'APPROACHES FROM 175_200 YARDS RGH':'https://www.pgatour.com/content/pgatour/stats/stat.02368.html',\n",
    "    'APPROACHES FROM 200_225 YARDS RGH':'https://www.pgatour.com/content/pgatour/stats/stat.02372.html',\n",
    "    'APPROACHES FROM 225_250 YARDS RGH':'https://www.pgatour.com/content/pgatour/stats/stat.02373.html',\n",
    "    'APPROACHES FROM 250_275 YARDS RGH':'https://www.pgatour.com/content/pgatour/stats/stat.02374.html',\n",
    "    'APPROACHES FROM INSIDE 100 YARDS RGH':'https://www.pgatour.com/content/pgatour/stats/stat.02370.html',\n",
    "    'GREENS IN REGULATION PERCENTAGE':'https://www.pgatour.com/content/pgatour/stats/stat.103.html',\n",
    "    'BIRDIE OR BETTER PERCENTAGE ROUGH':'https://www.pgatour.com/content/pgatour/stats/stat.02336.html',\n",
    "    'BIRDIE OR BETTER PERCENTAGE FAIRWAY':'https://www.pgatour.com/content/pgatour/stats/stat.02333.html',\n",
    "    'SAND SAVE PERCENTAGE':'https://www.pgatour.com/content/pgatour/stats/stat.111.html',\n",
    "    'PUTTING INSIDE 10ft':'https://www.pgatour.com/content/pgatour/stats/stat.484.html',\n",
    "    'PUTTING FROM 10 15ft':'https://www.pgatour.com/content/pgatour/stats/stat.405.html',\n",
    "    'PUTTING FROM 15 20ft':'https://www.pgatour.com/content/pgatour/stats/stat.406.html',\n",
    "    'PUTTING FROM 20 25ft':'https://www.pgatour.com/content/pgatour/stats/stat.407.html',\n",
    "    'PUTTING FROM 25ft plus':'https://www.pgatour.com/content/pgatour/stats/stat.408.html',\n",
    "    'BIRDIE OR BETTER CONVESION PERCENTAGE':'https://www.pgatour.com/content/pgatour/stats/stat.115.html',\n",
    "    'PUTTS PER ROUND':'https://www.pgatour.com/content/pgatour/stats/stat.119.html',\n",
    "    'PAR 3 SCORING AVERAGE':'https://www.pgatour.com/content/pgatour/stats/stat.142.html',\n",
    "    'PAR 4 SCORING AVERAGE':'https://www.pgatour.com/content/pgatour/stats/stat.143.html',\n",
    "    'PAR 5 SCORING AVERAGE':'https://www.pgatour.com/content/pgatour/stats/stat.144.html',\n",
    "    'BIRDIE AVE':'https://www.pgatour.com/content/pgatour/stats/stat.156.html',\n",
    "    'BIRDIE OR BETTER PERCENTAGE':'https://www.pgatour.com/content/pgatour/stats/stat.352.html',\n",
    "    'BOUNCE BACK':'https://www.pgatour.com/content/pgatour/stats/stat.160.html',\n",
    "    'EAGLES HOLES PER':'https://www.pgatour.com/content/pgatour/stats/stat.155.html',\n",
    "    'FINAL ROUND PERFORMANCE':'https://www.pgatour.com/content/pgatour/stats/stat.219.html'\n",
    "}"
   ]
  },
  {
   "cell_type": "markdown",
   "metadata": {},
   "source": [
    "## Scraping Function"
   ]
  },
  {
   "cell_type": "code",
   "execution_count": 5,
   "metadata": {},
   "outputs": [],
   "source": [
    "def df_builder(years,stats):\n",
    "    z = defaultdict(list)\n",
    "    missing_data = []\n",
    "    \n",
    "    for stat in list(stats.keys())[10:11]:\n",
    "        \n",
    "        #insert year into url to scrape stats from specific seasons\n",
    "        stats[stat] = stats[stat].replace('.html','.y{}.html')\n",
    "        x = defaultdict(list)\n",
    "        \n",
    "        for year in years[8:9]:    \n",
    "            url = stats[stat].format(year)\n",
    "            print(url)\n",
    "            driver = webdriver.Chrome(chromedriver)\n",
    "            driver.get(url)\n",
    "            time.sleep(.5) \n",
    "            soup = BeautifulSoup(driver.page_source)\n",
    "            \n",
    "            # try to access website and create a list of players with stats, but if it does not work, skip to the next link\n",
    "            try:\n",
    "                player_list = soup.find('table',{'id':'statsTable'}).find_all('a')\n",
    "            except AttributeError:\n",
    "                missing_data.append(str(stat+' was not collected for '+year))\n",
    "                continue   \n",
    "            \n",
    "            # find stats table on webpage from which data will be scraped\n",
    "            data_list = soup.find('table',{'id':'statsTable'}).find_all('td',class_='')\n",
    "            driver.quit()\n",
    "\n",
    "            names = []\n",
    "            stat_data = []\n",
    "                \n",
    "            # for each player in list, add them to the names list \n",
    "            for player in player_list:\n",
    "                names.append(player.text)\n",
    "                #print(names)\n",
    "            \n",
    "            # add data to list, store every other value\n",
    "            for data in data_list[1::2]:\n",
    "                stat_data.append(data.text.strip('\\n').strip())\n",
    "                #print(stat_data)\n",
    "                \n",
    "            name_stat_tuple = list(zip(names,stat_data))\n",
    "                #print(name_stat_tuple)\n",
    "                \n",
    "            x[str(year)].append(name_stat_tuple)\n",
    "        z[str(stat.replace(' ','_'))].append(x)\n",
    "    display(missing_data)\n",
    "    return z  "
   ]
  },
  {
   "cell_type": "markdown",
   "metadata": {},
   "source": [
    "## Scrape Data"
   ]
  },
  {
   "cell_type": "code",
   "execution_count": null,
   "metadata": {},
   "outputs": [],
   "source": [
    "dict_test = df_builder(years,stats)\n",
    "print(dict_test)"
   ]
  },
  {
   "cell_type": "markdown",
   "metadata": {},
   "source": [
    "## Pickle Scraped Data"
   ]
  },
  {
   "cell_type": "code",
   "execution_count": null,
   "metadata": {},
   "outputs": [],
   "source": [
    "with open ('scraped_data_all','wb') as dbfile:\n",
    "    pickle.dump(dict_test,dbfile)"
   ]
  },
  {
   "cell_type": "markdown",
   "metadata": {},
   "source": [
    "### Confirm Save Worked"
   ]
  },
  {
   "cell_type": "code",
   "execution_count": null,
   "metadata": {},
   "outputs": [],
   "source": [
    "with open ('scraped_data_all','rb') as dbfile:\n",
    "    new_test_dict = pickle.load(dbfile)"
   ]
  },
  {
   "cell_type": "code",
   "execution_count": null,
   "metadata": {},
   "outputs": [],
   "source": [
    "assert new_test_dict == dict_test"
   ]
  },
  {
   "cell_type": "markdown",
   "metadata": {},
   "source": [
    "## Scrape Stats Missed\n",
    "Some stats were missed the first time around so a another round of scraping was performed. "
   ]
  },
  {
   "cell_type": "markdown",
   "metadata": {},
   "source": [
    "Missing stats include:  \n",
    "\n",
    "- Clubhead speed for 2019  \n",
    "- Rough proximity for 2014  \n",
    "- Rough proximity from 150 - 175 yards for 2014  \n",
    "- Rough proximity from 150 - 175 yards for 2012   \n",
    "- Rough proximity from 125 - 150 yards for 2019  \n",
    "- Birdie average for 2010-2019  \n",
    "- Approach proximity from 250 - 275 yards for 2018  \n",
    "- Approach proximity from 150 - 175 yards for 2017  "
   ]
  },
  {
   "cell_type": "markdown",
   "metadata": {},
   "source": [
    "This was done by manually augmenting the df_builder function.  All data was pickled and will be called in the following cells. "
   ]
  },
  {
   "cell_type": "markdown",
   "metadata": {},
   "source": [
    "## Load Pickles"
   ]
  },
  {
   "cell_type": "code",
   "execution_count": 20,
   "metadata": {},
   "outputs": [],
   "source": [
    "pickle_to_open = [\n",
    "    'scraped_data_all',\n",
    "    'scraped_club_head_speed_2019',\n",
    "    'rough_proximity_14_scraped',\n",
    "    'rough_appr_150_175_14_scraped',\n",
    "    'rough_appr_150_175_10_12_scraped',\n",
    "    'rough_appr_125_150_19_scraped',\n",
    "    'birdie_stats',\n",
    "    'approach_250_275_18_scraped',\n",
    "    'approach_150_175_17_scraped'\n",
    "]"
   ]
  },
  {
   "cell_type": "code",
   "execution_count": 21,
   "metadata": {},
   "outputs": [],
   "source": [
    "with open (pickle_to_open[0],'rb') as dbfile:\n",
    "     scraped_data_all = pickle.load(dbfile)"
   ]
  },
  {
   "cell_type": "code",
   "execution_count": 22,
   "metadata": {},
   "outputs": [],
   "source": [
    "with open (pickle_to_open[1],'rb') as dbfile:\n",
    "     scraped_club_head_speed_2019 = pickle.load(dbfile)"
   ]
  },
  {
   "cell_type": "code",
   "execution_count": 23,
   "metadata": {},
   "outputs": [],
   "source": [
    "with open (pickle_to_open[2],'rb') as dbfile:\n",
    "     rough_proximity_14_scraped = pickle.load(dbfile)"
   ]
  },
  {
   "cell_type": "code",
   "execution_count": 24,
   "metadata": {},
   "outputs": [],
   "source": [
    "with open (pickle_to_open[3],'rb') as dbfile:\n",
    "     rough_appr_150_175_14_scraped = pickle.load(dbfile)"
   ]
  },
  {
   "cell_type": "code",
   "execution_count": 25,
   "metadata": {},
   "outputs": [],
   "source": [
    "with open (pickle_to_open[4],'rb') as dbfile:\n",
    "     rough_appr_150_175_10_12_scraped = pickle.load(dbfile)"
   ]
  },
  {
   "cell_type": "code",
   "execution_count": 26,
   "metadata": {},
   "outputs": [],
   "source": [
    "with open (pickle_to_open[5],'rb') as dbfile:\n",
    "     rough_appr_125_150_19_scraped = pickle.load(dbfile)"
   ]
  },
  {
   "cell_type": "code",
   "execution_count": 27,
   "metadata": {},
   "outputs": [],
   "source": [
    "with open (pickle_to_open[6],'rb') as dbfile:\n",
    "     birdie_stats = pickle.load(dbfile)"
   ]
  },
  {
   "cell_type": "code",
   "execution_count": 28,
   "metadata": {},
   "outputs": [],
   "source": [
    "with open (pickle_to_open[7],'rb') as dbfile:\n",
    "     approach_250_275_18_scraped= pickle.load(dbfile)"
   ]
  },
  {
   "cell_type": "code",
   "execution_count": 29,
   "metadata": {},
   "outputs": [],
   "source": [
    "with open (pickle_to_open[8],'rb') as dbfile:\n",
    "     approach_150_175_17_scraped= pickle.load(dbfile)"
   ]
  },
  {
   "cell_type": "markdown",
   "metadata": {},
   "source": [
    "## Create Original DataFrame"
   ]
  },
  {
   "cell_type": "markdown",
   "metadata": {},
   "source": [
    "The cell below takes the loaded pickles, which are triple nested defaultdict objects and unpacks them into a list of dictionaries called 'overall_data_store'. "
   ]
  },
  {
   "cell_type": "code",
   "execution_count": 30,
   "metadata": {},
   "outputs": [],
   "source": [
    "counter = 0\n",
    "\n",
    "overall_data_store = []\n",
    "\n",
    "dicts = [\n",
    "    scraped_data_all,\n",
    "    scraped_club_head_speed_2019,\n",
    "    rough_proximity_14_scraped,\n",
    "    rough_appr_150_175_14_scraped,\n",
    "    rough_appr_150_175_10_12_scraped,\n",
    "    rough_appr_125_150_19_scraped,\n",
    "    birdie_stats,\n",
    "    approach_250_275_18_scraped,\n",
    "    approach_150_175_17_scraped\n",
    "]\n",
    "\n",
    "for dict_ in dicts:\n",
    "    for cat_key in dict_.keys():\n",
    "        for year in dict_[cat_key][0].keys():\n",
    "            if len(dict_[cat_key][0][year]) > 0:\n",
    "                for player_tup in dict_[cat_key][0][year][0]:\n",
    "                    row = {}\n",
    "                    row['year'] = year\n",
    "                    row['player'] = player_tup[0]\n",
    "                    row['metric'] = cat_key\n",
    "                    row['value'] = player_tup[1]\n",
    "                    overall_data_store.append(row)   "
   ]
  },
  {
   "cell_type": "code",
   "execution_count": 31,
   "metadata": {},
   "outputs": [
    {
     "data": {
      "text/plain": [
       "77170"
      ]
     },
     "execution_count": 31,
     "metadata": {},
     "output_type": "execute_result"
    }
   ],
   "source": [
    "# Checking length of data\n",
    "len(overall_data_store)"
   ]
  },
  {
   "cell_type": "markdown",
   "metadata": {},
   "source": [
    "### Prep for Pivot: Adding Player Year Column"
   ]
  },
  {
   "cell_type": "code",
   "execution_count": 32,
   "metadata": {},
   "outputs": [
    {
     "data": {
      "text/html": [
       "<div>\n",
       "<style scoped>\n",
       "    .dataframe tbody tr th:only-of-type {\n",
       "        vertical-align: middle;\n",
       "    }\n",
       "\n",
       "    .dataframe tbody tr th {\n",
       "        vertical-align: top;\n",
       "    }\n",
       "\n",
       "    .dataframe thead th {\n",
       "        text-align: right;\n",
       "    }\n",
       "</style>\n",
       "<table border=\"1\" class=\"dataframe\">\n",
       "  <thead>\n",
       "    <tr style=\"text-align: right;\">\n",
       "      <th></th>\n",
       "      <th>year</th>\n",
       "      <th>player</th>\n",
       "      <th>metric</th>\n",
       "      <th>value</th>\n",
       "      <th>py</th>\n",
       "    </tr>\n",
       "  </thead>\n",
       "  <tbody>\n",
       "    <tr>\n",
       "      <th>0</th>\n",
       "      <td>2010</td>\n",
       "      <td>Ernie Els</td>\n",
       "      <td>FEDEX_REGULAR_SEASON_POINTS</td>\n",
       "      <td>1,846</td>\n",
       "      <td>2010_Ernie Els</td>\n",
       "    </tr>\n",
       "    <tr>\n",
       "      <th>1</th>\n",
       "      <td>2010</td>\n",
       "      <td>Steve Stricker</td>\n",
       "      <td>FEDEX_REGULAR_SEASON_POINTS</td>\n",
       "      <td>1,697</td>\n",
       "      <td>2010_Steve Stricker</td>\n",
       "    </tr>\n",
       "    <tr>\n",
       "      <th>2</th>\n",
       "      <td>2010</td>\n",
       "      <td>Jim Furyk</td>\n",
       "      <td>FEDEX_REGULAR_SEASON_POINTS</td>\n",
       "      <td>1,691</td>\n",
       "      <td>2010_Jim Furyk</td>\n",
       "    </tr>\n",
       "    <tr>\n",
       "      <th>3</th>\n",
       "      <td>2010</td>\n",
       "      <td>Phil Mickelson</td>\n",
       "      <td>FEDEX_REGULAR_SEASON_POINTS</td>\n",
       "      <td>1,629</td>\n",
       "      <td>2010_Phil Mickelson</td>\n",
       "    </tr>\n",
       "    <tr>\n",
       "      <th>4</th>\n",
       "      <td>2010</td>\n",
       "      <td>Justin Rose</td>\n",
       "      <td>FEDEX_REGULAR_SEASON_POINTS</td>\n",
       "      <td>1,593</td>\n",
       "      <td>2010_Justin Rose</td>\n",
       "    </tr>\n",
       "    <tr>\n",
       "      <th>...</th>\n",
       "      <td>...</td>\n",
       "      <td>...</td>\n",
       "      <td>...</td>\n",
       "      <td>...</td>\n",
       "      <td>...</td>\n",
       "    </tr>\n",
       "    <tr>\n",
       "      <th>77165</th>\n",
       "      <td>2017</td>\n",
       "      <td>Mackenzie Hughes</td>\n",
       "      <td>APPROACHES_FROM_150_175_YARDS</td>\n",
       "      <td>31' 9\"</td>\n",
       "      <td>2017_Mackenzie Hughes</td>\n",
       "    </tr>\n",
       "    <tr>\n",
       "      <th>77166</th>\n",
       "      <td>2017</td>\n",
       "      <td>Andrew Loupe</td>\n",
       "      <td>APPROACHES_FROM_150_175_YARDS</td>\n",
       "      <td>32' 1\"</td>\n",
       "      <td>2017_Andrew Loupe</td>\n",
       "    </tr>\n",
       "    <tr>\n",
       "      <th>77167</th>\n",
       "      <td>2017</td>\n",
       "      <td>Kevin Tway</td>\n",
       "      <td>APPROACHES_FROM_150_175_YARDS</td>\n",
       "      <td>32' 2\"</td>\n",
       "      <td>2017_Kevin Tway</td>\n",
       "    </tr>\n",
       "    <tr>\n",
       "      <th>77168</th>\n",
       "      <td>2017</td>\n",
       "      <td>Si Woo Kim</td>\n",
       "      <td>APPROACHES_FROM_150_175_YARDS</td>\n",
       "      <td>32' 3\"</td>\n",
       "      <td>2017_Si Woo Kim</td>\n",
       "    </tr>\n",
       "    <tr>\n",
       "      <th>77169</th>\n",
       "      <td>2017</td>\n",
       "      <td>Hunter Mahan</td>\n",
       "      <td>APPROACHES_FROM_150_175_YARDS</td>\n",
       "      <td>33' 9\"</td>\n",
       "      <td>2017_Hunter Mahan</td>\n",
       "    </tr>\n",
       "  </tbody>\n",
       "</table>\n",
       "<p>77170 rows × 5 columns</p>\n",
       "</div>"
      ],
      "text/plain": [
       "       year            player                         metric   value  \\\n",
       "0      2010         Ernie Els    FEDEX_REGULAR_SEASON_POINTS   1,846   \n",
       "1      2010    Steve Stricker    FEDEX_REGULAR_SEASON_POINTS   1,697   \n",
       "2      2010         Jim Furyk    FEDEX_REGULAR_SEASON_POINTS   1,691   \n",
       "3      2010    Phil Mickelson    FEDEX_REGULAR_SEASON_POINTS   1,629   \n",
       "4      2010       Justin Rose    FEDEX_REGULAR_SEASON_POINTS   1,593   \n",
       "...     ...               ...                            ...     ...   \n",
       "77165  2017  Mackenzie Hughes  APPROACHES_FROM_150_175_YARDS  31' 9\"   \n",
       "77166  2017      Andrew Loupe  APPROACHES_FROM_150_175_YARDS  32' 1\"   \n",
       "77167  2017        Kevin Tway  APPROACHES_FROM_150_175_YARDS  32' 2\"   \n",
       "77168  2017        Si Woo Kim  APPROACHES_FROM_150_175_YARDS  32' 3\"   \n",
       "77169  2017      Hunter Mahan  APPROACHES_FROM_150_175_YARDS  33' 9\"   \n",
       "\n",
       "                          py  \n",
       "0             2010_Ernie Els  \n",
       "1        2010_Steve Stricker  \n",
       "2             2010_Jim Furyk  \n",
       "3        2010_Phil Mickelson  \n",
       "4           2010_Justin Rose  \n",
       "...                      ...  \n",
       "77165  2017_Mackenzie Hughes  \n",
       "77166      2017_Andrew Loupe  \n",
       "77167        2017_Kevin Tway  \n",
       "77168        2017_Si Woo Kim  \n",
       "77169      2017_Hunter Mahan  \n",
       "\n",
       "[77170 rows x 5 columns]"
      ]
     },
     "execution_count": 32,
     "metadata": {},
     "output_type": "execute_result"
    }
   ],
   "source": [
    "# Create initial df and add column combining player and year\n",
    "player_df = pd.DataFrame(overall_data_store)\n",
    "player_df['py'] = player_df['year'] + '_' + player_df['player']\n",
    "player_df"
   ]
  },
  {
   "cell_type": "code",
   "execution_count": 33,
   "metadata": {},
   "outputs": [
    {
     "name": "stdout",
     "output_type": "stream",
     "text": [
      "<class 'pandas.core.frame.DataFrame'>\n",
      "RangeIndex: 77170 entries, 0 to 77169\n",
      "Data columns (total 5 columns):\n",
      "year      77170 non-null object\n",
      "player    77170 non-null object\n",
      "metric    77170 non-null object\n",
      "value     77170 non-null object\n",
      "py        77170 non-null object\n",
      "dtypes: object(5)\n",
      "memory usage: 2.9+ MB\n"
     ]
    }
   ],
   "source": [
    "player_df.info()"
   ]
  },
  {
   "cell_type": "markdown",
   "metadata": {},
   "source": [
    "### Pivot"
   ]
  },
  {
   "cell_type": "code",
   "execution_count": 34,
   "metadata": {},
   "outputs": [],
   "source": [
    "all_data = player_df.pivot(index='py',columns='metric',values='value').reset_index().copy()"
   ]
  },
  {
   "cell_type": "markdown",
   "metadata": {},
   "source": [
    "# Data Cleaning"
   ]
  },
  {
   "cell_type": "code",
   "execution_count": 35,
   "metadata": {},
   "outputs": [
    {
     "name": "stdout",
     "output_type": "stream",
     "text": [
      "<class 'pandas.core.frame.DataFrame'>\n",
      "RangeIndex: 2570 entries, 0 to 2569\n",
      "Data columns (total 42 columns):\n",
      "py                                       2570 non-null object\n",
      "APPROACHES_FROM_100_125_YARDS            1866 non-null object\n",
      "APPROACHES_FROM_100_125_YARDS_RGH        1866 non-null object\n",
      "APPROACHES_FROM_125_150_YARDS            1866 non-null object\n",
      "APPROACHES_FROM_125_150_YARDS_RGH        1866 non-null object\n",
      "APPROACHES_FROM_150_175_YARDS            1866 non-null object\n",
      "APPROACHES_FROM_150_175_YARDS_RGH        1866 non-null object\n",
      "APPROACHES_FROM_175_200_YARDS            1866 non-null object\n",
      "APPROACHES_FROM_175_200_YARDS_RGH        1866 non-null object\n",
      "APPROACHES_FROM_200_225_YARDS            1866 non-null object\n",
      "APPROACHES_FROM_200_225_YARDS_RGH        1866 non-null object\n",
      "APPROACHES_FROM_225_250_YARDS            1866 non-null object\n",
      "APPROACHES_FROM_225_250_YARDS_RGH        1865 non-null object\n",
      "APPROACHES_FROM_250_275_YARDS            1866 non-null object\n",
      "APPROACHES_FROM_250_275_YARDS_RGH        1843 non-null object\n",
      "APPROACHES_FROM_INSIDE_100_YARDS         1866 non-null object\n",
      "APPROACHES_FROM_INSIDE_100_YARDS_RGH     1866 non-null object\n",
      "BIRDIE_AVE                               1866 non-null object\n",
      "BIRDIE_OR_BETTER_CONVESION_PERCENTAGE    1866 non-null object\n",
      "BIRDIE_OR_BETTER_PERCENTAGE              1866 non-null object\n",
      "BIRDIE_OR_BETTER_PERCENTAGE_FAIRWAY      1866 non-null object\n",
      "BIRDIE_OR_BETTER_PERCENTAGE_ROUGH        1866 non-null object\n",
      "BOUNCE_BACK                              1866 non-null object\n",
      "CLUB_HEAD_SPEED                          1866 non-null object\n",
      "DRIVING_ACCURACY_PERCENTAGE              1866 non-null object\n",
      "DRIVING_DISTANCE                         1866 non-null object\n",
      "EAGLES_HOLES_PER                         1855 non-null object\n",
      "FAIRWAY_PROXIMITY                        1866 non-null object\n",
      "FEDEX_REGULAR_SEASON_POINTS              2565 non-null object\n",
      "FINAL_ROUND_PERFORMANCE                  1866 non-null object\n",
      "GREENS_IN_REGULATION_PERCENTAGE          1866 non-null object\n",
      "PAR_3_SCORING_AVERAGE                    1866 non-null object\n",
      "PAR_4_SCORING_AVERAGE                    1866 non-null object\n",
      "PAR_5_SCORING_AVERAGE                    1866 non-null object\n",
      "PUTTING_FROM_10_15ft                     1866 non-null object\n",
      "PUTTING_FROM_15_20ft                     1866 non-null object\n",
      "PUTTING_FROM_20_25ft                     1866 non-null object\n",
      "PUTTING_FROM_25ft_plus                   1866 non-null object\n",
      "PUTTING_INSIDE_10ft                      1866 non-null object\n",
      "PUTTS_PER_ROUND                          1866 non-null object\n",
      "ROUGH_PROXIMITY                          1866 non-null object\n",
      "SAND_SAVE_PERCENTAGE                     1866 non-null object\n",
      "dtypes: object(42)\n",
      "memory usage: 843.4+ KB\n"
     ]
    }
   ],
   "source": [
    "all_data.info()"
   ]
  },
  {
   "cell_type": "markdown",
   "metadata": {},
   "source": [
    "## Check for Nulls"
   ]
  },
  {
   "cell_type": "code",
   "execution_count": 36,
   "metadata": {},
   "outputs": [
    {
     "data": {
      "text/plain": [
       "metric\n",
       "py                                       False\n",
       "APPROACHES_FROM_100_125_YARDS             True\n",
       "APPROACHES_FROM_100_125_YARDS_RGH         True\n",
       "APPROACHES_FROM_125_150_YARDS             True\n",
       "APPROACHES_FROM_125_150_YARDS_RGH         True\n",
       "APPROACHES_FROM_150_175_YARDS             True\n",
       "APPROACHES_FROM_150_175_YARDS_RGH         True\n",
       "APPROACHES_FROM_175_200_YARDS             True\n",
       "APPROACHES_FROM_175_200_YARDS_RGH         True\n",
       "APPROACHES_FROM_200_225_YARDS             True\n",
       "APPROACHES_FROM_200_225_YARDS_RGH         True\n",
       "APPROACHES_FROM_225_250_YARDS             True\n",
       "APPROACHES_FROM_225_250_YARDS_RGH         True\n",
       "APPROACHES_FROM_250_275_YARDS             True\n",
       "APPROACHES_FROM_250_275_YARDS_RGH         True\n",
       "APPROACHES_FROM_INSIDE_100_YARDS          True\n",
       "APPROACHES_FROM_INSIDE_100_YARDS_RGH      True\n",
       "BIRDIE_AVE                                True\n",
       "BIRDIE_OR_BETTER_CONVESION_PERCENTAGE     True\n",
       "BIRDIE_OR_BETTER_PERCENTAGE               True\n",
       "BIRDIE_OR_BETTER_PERCENTAGE_FAIRWAY       True\n",
       "BIRDIE_OR_BETTER_PERCENTAGE_ROUGH         True\n",
       "BOUNCE_BACK                               True\n",
       "CLUB_HEAD_SPEED                           True\n",
       "DRIVING_ACCURACY_PERCENTAGE               True\n",
       "DRIVING_DISTANCE                          True\n",
       "EAGLES_HOLES_PER                          True\n",
       "FAIRWAY_PROXIMITY                         True\n",
       "FEDEX_REGULAR_SEASON_POINTS               True\n",
       "FINAL_ROUND_PERFORMANCE                   True\n",
       "GREENS_IN_REGULATION_PERCENTAGE           True\n",
       "PAR_3_SCORING_AVERAGE                     True\n",
       "PAR_4_SCORING_AVERAGE                     True\n",
       "PAR_5_SCORING_AVERAGE                     True\n",
       "PUTTING_FROM_10_15ft                      True\n",
       "PUTTING_FROM_15_20ft                      True\n",
       "PUTTING_FROM_20_25ft                      True\n",
       "PUTTING_FROM_25ft_plus                    True\n",
       "PUTTING_INSIDE_10ft                       True\n",
       "PUTTS_PER_ROUND                           True\n",
       "ROUGH_PROXIMITY                           True\n",
       "SAND_SAVE_PERCENTAGE                      True\n",
       "dtype: bool"
      ]
     },
     "execution_count": 36,
     "metadata": {},
     "output_type": "execute_result"
    }
   ],
   "source": [
    "all_data.isnull().any()"
   ]
  },
  {
   "cell_type": "markdown",
   "metadata": {},
   "source": [
    "## Drop Rows with Nulls in All Stats Except FedEx Cup Points"
   ]
  },
  {
   "cell_type": "code",
   "execution_count": 37,
   "metadata": {},
   "outputs": [],
   "source": [
    "all_data[all_data['BIRDIE_AVE'].isnull()]\n",
    "all_data2 = all_data.dropna(axis = 0, how=\"any\")"
   ]
  },
  {
   "cell_type": "markdown",
   "metadata": {},
   "source": [
    "## Check Data Types"
   ]
  },
  {
   "cell_type": "code",
   "execution_count": 38,
   "metadata": {},
   "outputs": [
    {
     "name": "stdout",
     "output_type": "stream",
     "text": [
      "<class 'pandas.core.frame.DataFrame'>\n",
      "Int64Index: 1827 entries, 0 to 2568\n",
      "Data columns (total 42 columns):\n",
      "py                                       1827 non-null object\n",
      "APPROACHES_FROM_100_125_YARDS            1827 non-null object\n",
      "APPROACHES_FROM_100_125_YARDS_RGH        1827 non-null object\n",
      "APPROACHES_FROM_125_150_YARDS            1827 non-null object\n",
      "APPROACHES_FROM_125_150_YARDS_RGH        1827 non-null object\n",
      "APPROACHES_FROM_150_175_YARDS            1827 non-null object\n",
      "APPROACHES_FROM_150_175_YARDS_RGH        1827 non-null object\n",
      "APPROACHES_FROM_175_200_YARDS            1827 non-null object\n",
      "APPROACHES_FROM_175_200_YARDS_RGH        1827 non-null object\n",
      "APPROACHES_FROM_200_225_YARDS            1827 non-null object\n",
      "APPROACHES_FROM_200_225_YARDS_RGH        1827 non-null object\n",
      "APPROACHES_FROM_225_250_YARDS            1827 non-null object\n",
      "APPROACHES_FROM_225_250_YARDS_RGH        1827 non-null object\n",
      "APPROACHES_FROM_250_275_YARDS            1827 non-null object\n",
      "APPROACHES_FROM_250_275_YARDS_RGH        1827 non-null object\n",
      "APPROACHES_FROM_INSIDE_100_YARDS         1827 non-null object\n",
      "APPROACHES_FROM_INSIDE_100_YARDS_RGH     1827 non-null object\n",
      "BIRDIE_AVE                               1827 non-null object\n",
      "BIRDIE_OR_BETTER_CONVESION_PERCENTAGE    1827 non-null object\n",
      "BIRDIE_OR_BETTER_PERCENTAGE              1827 non-null object\n",
      "BIRDIE_OR_BETTER_PERCENTAGE_FAIRWAY      1827 non-null object\n",
      "BIRDIE_OR_BETTER_PERCENTAGE_ROUGH        1827 non-null object\n",
      "BOUNCE_BACK                              1827 non-null object\n",
      "CLUB_HEAD_SPEED                          1827 non-null object\n",
      "DRIVING_ACCURACY_PERCENTAGE              1827 non-null object\n",
      "DRIVING_DISTANCE                         1827 non-null object\n",
      "EAGLES_HOLES_PER                         1827 non-null object\n",
      "FAIRWAY_PROXIMITY                        1827 non-null object\n",
      "FEDEX_REGULAR_SEASON_POINTS              1827 non-null object\n",
      "FINAL_ROUND_PERFORMANCE                  1827 non-null object\n",
      "GREENS_IN_REGULATION_PERCENTAGE          1827 non-null object\n",
      "PAR_3_SCORING_AVERAGE                    1827 non-null object\n",
      "PAR_4_SCORING_AVERAGE                    1827 non-null object\n",
      "PAR_5_SCORING_AVERAGE                    1827 non-null object\n",
      "PUTTING_FROM_10_15ft                     1827 non-null object\n",
      "PUTTING_FROM_15_20ft                     1827 non-null object\n",
      "PUTTING_FROM_20_25ft                     1827 non-null object\n",
      "PUTTING_FROM_25ft_plus                   1827 non-null object\n",
      "PUTTING_INSIDE_10ft                      1827 non-null object\n",
      "PUTTS_PER_ROUND                          1827 non-null object\n",
      "ROUGH_PROXIMITY                          1827 non-null object\n",
      "SAND_SAVE_PERCENTAGE                     1827 non-null object\n",
      "dtypes: object(42)\n",
      "memory usage: 613.8+ KB\n"
     ]
    }
   ],
   "source": [
    "all_data2.info()"
   ]
  },
  {
   "cell_type": "code",
   "execution_count": 39,
   "metadata": {},
   "outputs": [
    {
     "data": {
      "text/plain": [
       "0        38' 8\"\n",
       "1        25' 0\"\n",
       "2        28' 2\"\n",
       "3        34' 2\"\n",
       "4        32' 1\"\n",
       "         ...   \n",
       "2562     28' 9\"\n",
       "2563    29' 10\"\n",
       "2565    30' 11\"\n",
       "2566     32' 5\"\n",
       "2568     32' 1\"\n",
       "Name: APPROACHES_FROM_100_125_YARDS_RGH, Length: 1827, dtype: object"
      ]
     },
     "execution_count": 39,
     "metadata": {},
     "output_type": "execute_result"
    }
   ],
   "source": [
    "# All proximity data needs to be converted to feet. \n",
    "all_data2.APPROACHES_FROM_100_125_YARDS_RGH"
   ]
  },
  {
   "cell_type": "markdown",
   "metadata": {},
   "source": [
    "### Convert Proximity to Inches"
   ]
  },
  {
   "cell_type": "markdown",
   "metadata": {},
   "source": [
    "#### Function: Convert Proximity to Inches"
   ]
  },
  {
   "cell_type": "code",
   "execution_count": 40,
   "metadata": {},
   "outputs": [],
   "source": [
    "def parse_to_inch(distance):\n",
    "    dist = distance.split('\\'')\n",
    "    feet = dist[0]\n",
    "    inch = dist[1].strip().replace('\"','')\n",
    "    dist_inch = int(feet)*12 + int(inch)\n",
    "    return dist_inch"
   ]
  },
  {
   "cell_type": "markdown",
   "metadata": {},
   "source": [
    "#### Convert All Proximity Columns to Inches"
   ]
  },
  {
   "cell_type": "code",
   "execution_count": 41,
   "metadata": {},
   "outputs": [
    {
     "name": "stdout",
     "output_type": "stream",
     "text": [
      "<class 'pandas.core.frame.DataFrame'>\n",
      "Int64Index: 1827 entries, 0 to 2568\n",
      "Data columns (total 42 columns):\n",
      "py                                       1827 non-null object\n",
      "APPROACHES_FROM_100_125_YARDS            1827 non-null int64\n",
      "APPROACHES_FROM_100_125_YARDS_RGH        1827 non-null int64\n",
      "APPROACHES_FROM_125_150_YARDS            1827 non-null int64\n",
      "APPROACHES_FROM_125_150_YARDS_RGH        1827 non-null int64\n",
      "APPROACHES_FROM_150_175_YARDS            1827 non-null int64\n",
      "APPROACHES_FROM_150_175_YARDS_RGH        1827 non-null int64\n",
      "APPROACHES_FROM_175_200_YARDS            1827 non-null int64\n",
      "APPROACHES_FROM_175_200_YARDS_RGH        1827 non-null int64\n",
      "APPROACHES_FROM_200_225_YARDS            1827 non-null int64\n",
      "APPROACHES_FROM_200_225_YARDS_RGH        1827 non-null int64\n",
      "APPROACHES_FROM_225_250_YARDS            1827 non-null int64\n",
      "APPROACHES_FROM_225_250_YARDS_RGH        1827 non-null int64\n",
      "APPROACHES_FROM_250_275_YARDS            1827 non-null int64\n",
      "APPROACHES_FROM_250_275_YARDS_RGH        1827 non-null int64\n",
      "APPROACHES_FROM_INSIDE_100_YARDS         1827 non-null int64\n",
      "APPROACHES_FROM_INSIDE_100_YARDS_RGH     1827 non-null int64\n",
      "BIRDIE_AVE                               1827 non-null object\n",
      "BIRDIE_OR_BETTER_CONVESION_PERCENTAGE    1827 non-null object\n",
      "BIRDIE_OR_BETTER_PERCENTAGE              1827 non-null object\n",
      "BIRDIE_OR_BETTER_PERCENTAGE_FAIRWAY      1827 non-null object\n",
      "BIRDIE_OR_BETTER_PERCENTAGE_ROUGH        1827 non-null object\n",
      "BOUNCE_BACK                              1827 non-null object\n",
      "CLUB_HEAD_SPEED                          1827 non-null object\n",
      "DRIVING_ACCURACY_PERCENTAGE              1827 non-null object\n",
      "DRIVING_DISTANCE                         1827 non-null object\n",
      "EAGLES_HOLES_PER                         1827 non-null object\n",
      "FAIRWAY_PROXIMITY                        1827 non-null int64\n",
      "FEDEX_REGULAR_SEASON_POINTS              1827 non-null object\n",
      "FINAL_ROUND_PERFORMANCE                  1827 non-null object\n",
      "GREENS_IN_REGULATION_PERCENTAGE          1827 non-null object\n",
      "PAR_3_SCORING_AVERAGE                    1827 non-null object\n",
      "PAR_4_SCORING_AVERAGE                    1827 non-null object\n",
      "PAR_5_SCORING_AVERAGE                    1827 non-null object\n",
      "PUTTING_FROM_10_15ft                     1827 non-null object\n",
      "PUTTING_FROM_15_20ft                     1827 non-null object\n",
      "PUTTING_FROM_20_25ft                     1827 non-null object\n",
      "PUTTING_FROM_25ft_plus                   1827 non-null object\n",
      "PUTTING_INSIDE_10ft                      1827 non-null object\n",
      "PUTTS_PER_ROUND                          1827 non-null object\n",
      "ROUGH_PROXIMITY                          1827 non-null int64\n",
      "SAND_SAVE_PERCENTAGE                     1827 non-null object\n",
      "dtypes: int64(18), object(24)\n",
      "memory usage: 613.8+ KB\n"
     ]
    },
    {
     "name": "stderr",
     "output_type": "stream",
     "text": [
      "/Users/AKE/opt/anaconda3/envs/metis/lib/python3.7/site-packages/ipykernel_launcher.py:24: SettingWithCopyWarning: \n",
      "A value is trying to be set on a copy of a slice from a DataFrame.\n",
      "Try using .loc[row_indexer,col_indexer] = value instead\n",
      "\n",
      "See the caveats in the documentation: http://pandas.pydata.org/pandas-docs/stable/user_guide/indexing.html#returning-a-view-versus-a-copy\n"
     ]
    }
   ],
   "source": [
    "proximity_categories = [\n",
    "    'APPROACHES_FROM_100_125_YARDS',\n",
    "    'APPROACHES_FROM_100_125_YARDS_RGH',\n",
    "    'APPROACHES_FROM_125_150_YARDS',\n",
    "    'APPROACHES_FROM_125_150_YARDS_RGH',\n",
    "    'APPROACHES_FROM_150_175_YARDS',\n",
    "    'APPROACHES_FROM_150_175_YARDS_RGH',\n",
    "    'APPROACHES_FROM_175_200_YARDS',\n",
    "    'APPROACHES_FROM_175_200_YARDS_RGH',\n",
    "    'APPROACHES_FROM_200_225_YARDS',\n",
    "    'APPROACHES_FROM_200_225_YARDS_RGH',\n",
    "    'APPROACHES_FROM_225_250_YARDS',\n",
    "    'APPROACHES_FROM_225_250_YARDS_RGH',\n",
    "    'APPROACHES_FROM_250_275_YARDS',\n",
    "    'APPROACHES_FROM_250_275_YARDS_RGH',\n",
    "    'APPROACHES_FROM_INSIDE_100_YARDS',\n",
    "    'APPROACHES_FROM_INSIDE_100_YARDS_RGH',\n",
    "    'FAIRWAY_PROXIMITY',\n",
    "    'ROUGH_PROXIMITY',\n",
    "    ]\n",
    "\n",
    "def series_to_inches(column_name,df):\n",
    "    for name in column_name:\n",
    "        df[name] = df[name].apply(lambda x: parse_to_inch(x))\n",
    "    return df.info()\n",
    "\n",
    "series_to_inches(proximity_categories,all_data2)"
   ]
  },
  {
   "cell_type": "markdown",
   "metadata": {},
   "source": [
    "### Convert Number Strings to Float"
   ]
  },
  {
   "cell_type": "markdown",
   "metadata": {},
   "source": [
    "#### Function: to Float"
   ]
  },
  {
   "cell_type": "code",
   "execution_count": 42,
   "metadata": {},
   "outputs": [],
   "source": [
    "def to_float(column_name,df):\n",
    "    for name in column_name:\n",
    "        df[name] = df[name].apply(lambda x: float(str(x).replace(',','').strip()))\n",
    "    return df.info()"
   ]
  },
  {
   "cell_type": "markdown",
   "metadata": {},
   "source": [
    "#### Conversion of Strings to Float"
   ]
  },
  {
   "cell_type": "code",
   "execution_count": 43,
   "metadata": {},
   "outputs": [
    {
     "name": "stdout",
     "output_type": "stream",
     "text": [
      "<class 'pandas.core.frame.DataFrame'>\n",
      "Int64Index: 1827 entries, 0 to 2568\n",
      "Data columns (total 42 columns):\n",
      "py                                       1827 non-null object\n",
      "APPROACHES_FROM_100_125_YARDS            1827 non-null int64\n",
      "APPROACHES_FROM_100_125_YARDS_RGH        1827 non-null int64\n",
      "APPROACHES_FROM_125_150_YARDS            1827 non-null int64\n",
      "APPROACHES_FROM_125_150_YARDS_RGH        1827 non-null int64\n",
      "APPROACHES_FROM_150_175_YARDS            1827 non-null int64\n",
      "APPROACHES_FROM_150_175_YARDS_RGH        1827 non-null int64\n",
      "APPROACHES_FROM_175_200_YARDS            1827 non-null int64\n",
      "APPROACHES_FROM_175_200_YARDS_RGH        1827 non-null int64\n",
      "APPROACHES_FROM_200_225_YARDS            1827 non-null int64\n",
      "APPROACHES_FROM_200_225_YARDS_RGH        1827 non-null int64\n",
      "APPROACHES_FROM_225_250_YARDS            1827 non-null int64\n",
      "APPROACHES_FROM_225_250_YARDS_RGH        1827 non-null int64\n",
      "APPROACHES_FROM_250_275_YARDS            1827 non-null int64\n",
      "APPROACHES_FROM_250_275_YARDS_RGH        1827 non-null int64\n",
      "APPROACHES_FROM_INSIDE_100_YARDS         1827 non-null int64\n",
      "APPROACHES_FROM_INSIDE_100_YARDS_RGH     1827 non-null int64\n",
      "BIRDIE_AVE                               1827 non-null float64\n",
      "BIRDIE_OR_BETTER_CONVESION_PERCENTAGE    1827 non-null float64\n",
      "BIRDIE_OR_BETTER_PERCENTAGE              1827 non-null float64\n",
      "BIRDIE_OR_BETTER_PERCENTAGE_FAIRWAY      1827 non-null float64\n",
      "BIRDIE_OR_BETTER_PERCENTAGE_ROUGH        1827 non-null float64\n",
      "BOUNCE_BACK                              1827 non-null float64\n",
      "CLUB_HEAD_SPEED                          1827 non-null float64\n",
      "DRIVING_ACCURACY_PERCENTAGE              1827 non-null float64\n",
      "DRIVING_DISTANCE                         1827 non-null float64\n",
      "EAGLES_HOLES_PER                         1827 non-null float64\n",
      "FAIRWAY_PROXIMITY                        1827 non-null int64\n",
      "FEDEX_REGULAR_SEASON_POINTS              1827 non-null object\n",
      "FINAL_ROUND_PERFORMANCE                  1827 non-null float64\n",
      "GREENS_IN_REGULATION_PERCENTAGE          1827 non-null float64\n",
      "PAR_3_SCORING_AVERAGE                    1827 non-null float64\n",
      "PAR_4_SCORING_AVERAGE                    1827 non-null float64\n",
      "PAR_5_SCORING_AVERAGE                    1827 non-null float64\n",
      "PUTTING_FROM_10_15ft                     1827 non-null float64\n",
      "PUTTING_FROM_15_20ft                     1827 non-null float64\n",
      "PUTTING_FROM_20_25ft                     1827 non-null float64\n",
      "PUTTING_FROM_25ft_plus                   1827 non-null float64\n",
      "PUTTING_INSIDE_10ft                      1827 non-null float64\n",
      "PUTTS_PER_ROUND                          1827 non-null float64\n",
      "ROUGH_PROXIMITY                          1827 non-null int64\n",
      "SAND_SAVE_PERCENTAGE                     1827 non-null float64\n",
      "dtypes: float64(22), int64(18), object(2)\n",
      "memory usage: 613.8+ KB\n"
     ]
    },
    {
     "name": "stderr",
     "output_type": "stream",
     "text": [
      "/Users/AKE/opt/anaconda3/envs/metis/lib/python3.7/site-packages/ipykernel_launcher.py:3: SettingWithCopyWarning: \n",
      "A value is trying to be set on a copy of a slice from a DataFrame.\n",
      "Try using .loc[row_indexer,col_indexer] = value instead\n",
      "\n",
      "See the caveats in the documentation: http://pandas.pydata.org/pandas-docs/stable/user_guide/indexing.html#returning-a-view-versus-a-copy\n",
      "  This is separate from the ipykernel package so we can avoid doing imports until\n"
     ]
    }
   ],
   "source": [
    "column_to_float = [\n",
    "    'BIRDIE_AVE',                               \n",
    "    'BIRDIE_OR_BETTER_CONVESION_PERCENTAGE',    \n",
    "    'BIRDIE_OR_BETTER_PERCENTAGE',              \n",
    "    'BIRDIE_OR_BETTER_PERCENTAGE_FAIRWAY',      \n",
    "    'BIRDIE_OR_BETTER_PERCENTAGE_ROUGH',       \n",
    "    'BOUNCE_BACK',                             \n",
    "    'CLUB_HEAD_SPEED',                         \n",
    "    'DRIVING_ACCURACY_PERCENTAGE',              \n",
    "    'DRIVING_DISTANCE',                        \n",
    "    'EAGLES_HOLES_PER',\n",
    "    'FINAL_ROUND_PERFORMANCE',\n",
    "    'GREENS_IN_REGULATION_PERCENTAGE',\n",
    "    'PAR_3_SCORING_AVERAGE',\n",
    "    'PAR_4_SCORING_AVERAGE',\n",
    "    'PAR_5_SCORING_AVERAGE',\n",
    "    'PUTTING_FROM_10_15ft',\n",
    "    'PUTTING_FROM_15_20ft',\n",
    "    'PUTTING_FROM_20_25ft',\n",
    "    'PUTTING_FROM_25ft_plus',\n",
    "    'PUTTING_INSIDE_10ft',\n",
    "    'PUTTS_PER_ROUND',\n",
    "    'SAND_SAVE_PERCENTAGE',\n",
    "    ]\n",
    "\n",
    "to_float(column_to_float,all_data2)"
   ]
  },
  {
   "cell_type": "markdown",
   "metadata": {},
   "source": [
    "#### Convert FedEx Cup Points from String to Float"
   ]
  },
  {
   "cell_type": "code",
   "execution_count": 44,
   "metadata": {},
   "outputs": [
    {
     "name": "stderr",
     "output_type": "stream",
     "text": [
      "/Users/AKE/opt/anaconda3/envs/metis/lib/python3.7/site-packages/pandas/core/generic.py:5208: SettingWithCopyWarning: \n",
      "A value is trying to be set on a copy of a slice from a DataFrame.\n",
      "Try using .loc[row_indexer,col_indexer] = value instead\n",
      "\n",
      "See the caveats in the documentation: http://pandas.pydata.org/pandas-docs/stable/user_guide/indexing.html#returning-a-view-versus-a-copy\n",
      "  self[name] = value\n"
     ]
    }
   ],
   "source": [
    "all_data2.FEDEX_REGULAR_SEASON_POINTS = all_data2.FEDEX_REGULAR_SEASON_POINTS.apply(lambda x: int(str(x).replace(',','').strip()))"
   ]
  },
  {
   "cell_type": "markdown",
   "metadata": {},
   "source": [
    "## Create Player and Season Columns"
   ]
  },
  {
   "cell_type": "code",
   "execution_count": 45,
   "metadata": {},
   "outputs": [
    {
     "name": "stderr",
     "output_type": "stream",
     "text": [
      "/Users/AKE/opt/anaconda3/envs/metis/lib/python3.7/site-packages/ipykernel_launcher.py:1: SettingWithCopyWarning: \n",
      "A value is trying to be set on a copy of a slice from a DataFrame.\n",
      "Try using .loc[row_indexer,col_indexer] = value instead\n",
      "\n",
      "See the caveats in the documentation: http://pandas.pydata.org/pandas-docs/stable/user_guide/indexing.html#returning-a-view-versus-a-copy\n",
      "  \"\"\"Entry point for launching an IPython kernel.\n",
      "/Users/AKE/opt/anaconda3/envs/metis/lib/python3.7/site-packages/ipykernel_launcher.py:2: SettingWithCopyWarning: \n",
      "A value is trying to be set on a copy of a slice from a DataFrame.\n",
      "Try using .loc[row_indexer,col_indexer] = value instead\n",
      "\n",
      "See the caveats in the documentation: http://pandas.pydata.org/pandas-docs/stable/user_guide/indexing.html#returning-a-view-versus-a-copy\n",
      "  \n"
     ]
    }
   ],
   "source": [
    "all_data2['PLAYER'] = all_data2.py.apply(lambda x: str(x).split('_')[1])\n",
    "all_data2['SEASON'] = all_data2.py.apply(lambda x: str(x).split('_')[0])"
   ]
  },
  {
   "cell_type": "markdown",
   "metadata": {},
   "source": [
    "## Save Clean Data"
   ]
  },
  {
   "cell_type": "code",
   "execution_count": 46,
   "metadata": {},
   "outputs": [
    {
     "data": {
      "text/plain": [
       "Index(['py', 'APPROACHES_FROM_100_125_YARDS',\n",
       "       'APPROACHES_FROM_100_125_YARDS_RGH', 'APPROACHES_FROM_125_150_YARDS',\n",
       "       'APPROACHES_FROM_125_150_YARDS_RGH', 'APPROACHES_FROM_150_175_YARDS',\n",
       "       'APPROACHES_FROM_150_175_YARDS_RGH', 'APPROACHES_FROM_175_200_YARDS',\n",
       "       'APPROACHES_FROM_175_200_YARDS_RGH', 'APPROACHES_FROM_200_225_YARDS',\n",
       "       'APPROACHES_FROM_200_225_YARDS_RGH', 'APPROACHES_FROM_225_250_YARDS',\n",
       "       'APPROACHES_FROM_225_250_YARDS_RGH', 'APPROACHES_FROM_250_275_YARDS',\n",
       "       'APPROACHES_FROM_250_275_YARDS_RGH', 'APPROACHES_FROM_INSIDE_100_YARDS',\n",
       "       'APPROACHES_FROM_INSIDE_100_YARDS_RGH', 'BIRDIE_AVE',\n",
       "       'BIRDIE_OR_BETTER_CONVESION_PERCENTAGE', 'BIRDIE_OR_BETTER_PERCENTAGE',\n",
       "       'BIRDIE_OR_BETTER_PERCENTAGE_FAIRWAY',\n",
       "       'BIRDIE_OR_BETTER_PERCENTAGE_ROUGH', 'BOUNCE_BACK', 'CLUB_HEAD_SPEED',\n",
       "       'DRIVING_ACCURACY_PERCENTAGE', 'DRIVING_DISTANCE', 'EAGLES_HOLES_PER',\n",
       "       'FAIRWAY_PROXIMITY', 'FEDEX_REGULAR_SEASON_POINTS',\n",
       "       'FINAL_ROUND_PERFORMANCE', 'GREENS_IN_REGULATION_PERCENTAGE',\n",
       "       'PAR_3_SCORING_AVERAGE', 'PAR_4_SCORING_AVERAGE',\n",
       "       'PAR_5_SCORING_AVERAGE', 'PUTTING_FROM_10_15ft', 'PUTTING_FROM_15_20ft',\n",
       "       'PUTTING_FROM_20_25ft', 'PUTTING_FROM_25ft_plus', 'PUTTING_INSIDE_10ft',\n",
       "       'PUTTS_PER_ROUND', 'ROUGH_PROXIMITY', 'SAND_SAVE_PERCENTAGE', 'PLAYER',\n",
       "       'SEASON'],\n",
       "      dtype='object', name='metric')"
      ]
     },
     "execution_count": 46,
     "metadata": {},
     "output_type": "execute_result"
    }
   ],
   "source": [
    "# Check all column names for formatting\n",
    "all_data2.columns"
   ]
  },
  {
   "cell_type": "code",
   "execution_count": 48,
   "metadata": {},
   "outputs": [],
   "source": [
    "# Converting saved data from pickle to csv to conform with better practice. I will be using csv moving forward in future projects. \n",
    "all_data2.to_csv('full_dataset_clean.csv', index = False)"
   ]
  },
  {
   "cell_type": "markdown",
   "metadata": {},
   "source": [
    "## Further DataFrame Refinement"
   ]
  },
  {
   "cell_type": "code",
   "execution_count": 72,
   "metadata": {},
   "outputs": [
    {
     "name": "stdout",
     "output_type": "stream",
     "text": [
      "<class 'pandas.core.frame.DataFrame'>\n",
      "RangeIndex: 1827 entries, 0 to 1826\n",
      "Data columns (total 44 columns):\n",
      "py                                       1827 non-null object\n",
      "APPROACHES_FROM_100_125_YARDS            1827 non-null int64\n",
      "APPROACHES_FROM_100_125_YARDS_RGH        1827 non-null int64\n",
      "APPROACHES_FROM_125_150_YARDS            1827 non-null int64\n",
      "APPROACHES_FROM_125_150_YARDS_RGH        1827 non-null int64\n",
      "APPROACHES_FROM_150_175_YARDS            1827 non-null int64\n",
      "APPROACHES_FROM_150_175_YARDS_RGH        1827 non-null int64\n",
      "APPROACHES_FROM_175_200_YARDS            1827 non-null int64\n",
      "APPROACHES_FROM_175_200_YARDS_RGH        1827 non-null int64\n",
      "APPROACHES_FROM_200_225_YARDS            1827 non-null int64\n",
      "APPROACHES_FROM_200_225_YARDS_RGH        1827 non-null int64\n",
      "APPROACHES_FROM_225_250_YARDS            1827 non-null int64\n",
      "APPROACHES_FROM_225_250_YARDS_RGH        1827 non-null int64\n",
      "APPROACHES_FROM_250_275_YARDS            1827 non-null int64\n",
      "APPROACHES_FROM_250_275_YARDS_RGH        1827 non-null int64\n",
      "APPROACHES_FROM_INSIDE_100_YARDS         1827 non-null int64\n",
      "APPROACHES_FROM_INSIDE_100_YARDS_RGH     1827 non-null int64\n",
      "BIRDIE_AVE                               1827 non-null float64\n",
      "BIRDIE_OR_BETTER_CONVESION_PERCENTAGE    1827 non-null float64\n",
      "BIRDIE_OR_BETTER_PERCENTAGE              1827 non-null float64\n",
      "BIRDIE_OR_BETTER_PERCENTAGE_FAIRWAY      1827 non-null float64\n",
      "BIRDIE_OR_BETTER_PERCENTAGE_ROUGH        1827 non-null float64\n",
      "BOUNCE_BACK                              1827 non-null float64\n",
      "CLUB_HEAD_SPEED                          1827 non-null float64\n",
      "DRIVING_ACCURACY_PERCENTAGE              1827 non-null float64\n",
      "DRIVING_DISTANCE                         1827 non-null float64\n",
      "EAGLES_HOLES_PER                         1827 non-null float64\n",
      "FAIRWAY_PROXIMITY                        1827 non-null int64\n",
      "FEDEX_REGULAR_SEASON_POINTS              1827 non-null int64\n",
      "FINAL_ROUND_PERFORMANCE                  1827 non-null float64\n",
      "GREENS_IN_REGULATION_PERCENTAGE          1827 non-null float64\n",
      "PAR_3_SCORING_AVERAGE                    1827 non-null float64\n",
      "PAR_4_SCORING_AVERAGE                    1827 non-null float64\n",
      "PAR_5_SCORING_AVERAGE                    1827 non-null float64\n",
      "PUTTING_FROM_10_15ft                     1827 non-null float64\n",
      "PUTTING_FROM_15_20ft                     1827 non-null float64\n",
      "PUTTING_FROM_20_25ft                     1827 non-null float64\n",
      "PUTTING_FROM_25ft_plus                   1827 non-null float64\n",
      "PUTTING_INSIDE_10ft                      1827 non-null float64\n",
      "PUTTS_PER_ROUND                          1827 non-null float64\n",
      "ROUGH_PROXIMITY                          1827 non-null int64\n",
      "SAND_SAVE_PERCENTAGE                     1827 non-null float64\n",
      "PLAYER                                   1827 non-null object\n",
      "SEASON                                   1827 non-null int64\n",
      "dtypes: float64(22), int64(20), object(2)\n",
      "memory usage: 628.2+ KB\n"
     ]
    }
   ],
   "source": [
    "clean_data = pd.read_csv('full_dataset_clean.csv')\n",
    "clean_data.info()\n"
   ]
  },
  {
   "cell_type": "markdown",
   "metadata": {},
   "source": [
    "### Create Column of Percentage of Winning Points\n",
    "Since FedEx Points varied in mean and winning total each season due to rule changes from season to season, all players points will be converted to the percentage of that season's winning total, with winners receiving a value of 1.  "
   ]
  },
  {
   "cell_type": "code",
   "execution_count": 73,
   "metadata": {},
   "outputs": [],
   "source": [
    "# Dictionary of winning point totals for each season\n",
    "\n",
    "mask_19 = clean_data['SEASON'] == 2019\n",
    "mask_18 = clean_data['SEASON'] == 2018\n",
    "mask_17 = clean_data['SEASON'] == 2017\n",
    "mask_16 = clean_data['SEASON'] == 2016\n",
    "mask_15 = clean_data['SEASON'] == 2015\n",
    "mask_14 = clean_data['SEASON'] == 2014\n",
    "mask_13 = clean_data['SEASON'] == 2013\n",
    "mask_12 = clean_data['SEASON'] == 2012\n",
    "mask_11 = clean_data['SEASON'] == 2011\n",
    "mask_10 = clean_data['SEASON'] == 2010\n",
    "\n",
    "mask_list = [mask_19, mask_18, mask_17, mask_16, mask_15, mask_14, mask_13, mask_12, mask_11, mask_10]\n",
    "\n",
    "winning_pts = {'2019':clean_data[mask_19].FEDEX_REGULAR_SEASON_POINTS.max(),\n",
    "               '2018':clean_data[mask_18].FEDEX_REGULAR_SEASON_POINTS.max(),\n",
    "               '2017':clean_data[mask_17].FEDEX_REGULAR_SEASON_POINTS.max(),\n",
    "               '2016':clean_data[mask_16].FEDEX_REGULAR_SEASON_POINTS.max(),\n",
    "               '2015':clean_data[mask_15].FEDEX_REGULAR_SEASON_POINTS.max(),\n",
    "               '2014':clean_data[mask_14].FEDEX_REGULAR_SEASON_POINTS.max(),\n",
    "               '2013':clean_data[mask_13].FEDEX_REGULAR_SEASON_POINTS.max(),\n",
    "               '2012':clean_data[mask_12].FEDEX_REGULAR_SEASON_POINTS.max(),\n",
    "               '2011':clean_data[mask_11].FEDEX_REGULAR_SEASON_POINTS.max(),\n",
    "               '2010':clean_data[mask_10].FEDEX_REGULAR_SEASON_POINTS.max(),\n",
    "              }"
   ]
  },
  {
   "cell_type": "code",
   "execution_count": 76,
   "metadata": {},
   "outputs": [],
   "source": [
    "# Creating and adding percentage of winning column\n",
    "PERCENTAGE_OF_WINNING_PTS = []\n",
    "\n",
    "for i in range(0,clean_data.shape[0]):\n",
    "    PERCENTAGE_OF_WINNING_PTS.append(clean_data.FEDEX_REGULAR_SEASON_POINTS.iloc[i]/(winning_pts[str(clean_data.SEASON.iloc[i])]))\n",
    "    \n",
    "clean_data['PERCENTAGE_OF_WINNING_PTS'] = PERCENTAGE_OF_WINNING_PTS"
   ]
  },
  {
   "cell_type": "markdown",
   "metadata": {},
   "source": [
    "### Creating Column for Next Season Results"
   ]
  },
  {
   "cell_type": "markdown",
   "metadata": {},
   "source": [
    "#### Evaluation of FedEx Point Max and Mean by Season"
   ]
  },
  {
   "cell_type": "code",
   "execution_count": 77,
   "metadata": {},
   "outputs": [],
   "source": [
    "# Examine mean and max for each season\n",
    "def fedex_by_year(df,mask_list,init_season,end_season):\n",
    "    \n",
    "    season_stats = dict.fromkeys(['SEASON','MIN','MEAN','MAX'])\n",
    "    season_stats['SEASON'] = [i for i in range(init_season,end_season+1)]\n",
    "    \n",
    "    mins = []\n",
    "    means = []\n",
    "    maxs = []\n",
    "    \n",
    "    for mask in mask_list:\n",
    "        new_min = df[mask].FEDEX_REGULAR_SEASON_POINTS.min()\n",
    "        mins.append(new_min)\n",
    "        \n",
    "        new_mean = df[mask].FEDEX_REGULAR_SEASON_POINTS.mean()\n",
    "        means.append(new_mean)\n",
    "        \n",
    "        new_max = df[mask].FEDEX_REGULAR_SEASON_POINTS.max()\n",
    "        maxs.append(new_max)\n",
    "    \n",
    "    season_stats['MIN'] = mins\n",
    "    season_stats['MEAN'] = means\n",
    "    season_stats['MAX'] = maxs\n",
    "    \n",
    "    stats_df = pd.DataFrame.from_dict(season_stats)\n",
    "    \n",
    "    return stats_df\n",
    "\n",
    "stats_df_new = fedex_by_year(clean_data,mask_list,2010,2019)   "
   ]
  },
  {
   "cell_type": "code",
   "execution_count": 78,
   "metadata": {},
   "outputs": [
    {
     "data": {
      "text/html": [
       "<div>\n",
       "<style scoped>\n",
       "    .dataframe tbody tr th:only-of-type {\n",
       "        vertical-align: middle;\n",
       "    }\n",
       "\n",
       "    .dataframe tbody tr th {\n",
       "        vertical-align: top;\n",
       "    }\n",
       "\n",
       "    .dataframe thead th {\n",
       "        text-align: right;\n",
       "    }\n",
       "</style>\n",
       "<table border=\"1\" class=\"dataframe\">\n",
       "  <thead>\n",
       "    <tr style=\"text-align: right;\">\n",
       "      <th></th>\n",
       "      <th>SEASON</th>\n",
       "      <th>MIN</th>\n",
       "      <th>MEAN</th>\n",
       "      <th>MAX</th>\n",
       "    </tr>\n",
       "  </thead>\n",
       "  <tbody>\n",
       "    <tr>\n",
       "      <th>0</th>\n",
       "      <td>2010</td>\n",
       "      <td>34</td>\n",
       "      <td>595.271739</td>\n",
       "      <td>2887</td>\n",
       "    </tr>\n",
       "    <tr>\n",
       "      <th>1</th>\n",
       "      <td>2011</td>\n",
       "      <td>16</td>\n",
       "      <td>635.624339</td>\n",
       "      <td>2717</td>\n",
       "    </tr>\n",
       "    <tr>\n",
       "      <th>2</th>\n",
       "      <td>2012</td>\n",
       "      <td>9</td>\n",
       "      <td>601.631016</td>\n",
       "      <td>2869</td>\n",
       "    </tr>\n",
       "    <tr>\n",
       "      <th>3</th>\n",
       "      <td>2013</td>\n",
       "      <td>9</td>\n",
       "      <td>685.219780</td>\n",
       "      <td>2735</td>\n",
       "    </tr>\n",
       "    <tr>\n",
       "      <th>4</th>\n",
       "      <td>2014</td>\n",
       "      <td>63</td>\n",
       "      <td>705.200000</td>\n",
       "      <td>4169</td>\n",
       "    </tr>\n",
       "    <tr>\n",
       "      <th>5</th>\n",
       "      <td>2015</td>\n",
       "      <td>94</td>\n",
       "      <td>719.783626</td>\n",
       "      <td>2582</td>\n",
       "    </tr>\n",
       "    <tr>\n",
       "      <th>6</th>\n",
       "      <td>2016</td>\n",
       "      <td>72</td>\n",
       "      <td>627.942529</td>\n",
       "      <td>3059</td>\n",
       "    </tr>\n",
       "    <tr>\n",
       "      <th>7</th>\n",
       "      <td>2017</td>\n",
       "      <td>3</td>\n",
       "      <td>585.967742</td>\n",
       "      <td>2269</td>\n",
       "    </tr>\n",
       "    <tr>\n",
       "      <th>8</th>\n",
       "      <td>2018</td>\n",
       "      <td>84</td>\n",
       "      <td>592.005464</td>\n",
       "      <td>1906</td>\n",
       "    </tr>\n",
       "    <tr>\n",
       "      <th>9</th>\n",
       "      <td>2019</td>\n",
       "      <td>6</td>\n",
       "      <td>553.706806</td>\n",
       "      <td>1846</td>\n",
       "    </tr>\n",
       "  </tbody>\n",
       "</table>\n",
       "</div>"
      ],
      "text/plain": [
       "   SEASON  MIN        MEAN   MAX\n",
       "0    2010   34  595.271739  2887\n",
       "1    2011   16  635.624339  2717\n",
       "2    2012    9  601.631016  2869\n",
       "3    2013    9  685.219780  2735\n",
       "4    2014   63  705.200000  4169\n",
       "5    2015   94  719.783626  2582\n",
       "6    2016   72  627.942529  3059\n",
       "7    2017    3  585.967742  2269\n",
       "8    2018   84  592.005464  1906\n",
       "9    2019    6  553.706806  1846"
      ]
     },
     "execution_count": 78,
     "metadata": {},
     "output_type": "execute_result"
    }
   ],
   "source": [
    "stats_df_new"
   ]
  },
  {
   "cell_type": "code",
   "execution_count": 79,
   "metadata": {},
   "outputs": [
    {
     "data": {
      "image/png": "[encoded data removed]",
      "text/plain": [
       "<Figure size 360x360 with 1 Axes>"
      ]
     },
     "metadata": {
      "needs_background": "light"
     },
     "output_type": "display_data"
    }
   ],
   "source": [
    "# Plot Max FedEx Cup Points Across Seasons\n",
    "g1 = sns.catplot(x=\"SEASON\",y =\"MAX\", data = stats_df_new, kind = \"bar\")\n",
    "g1.fig.suptitle('Winning FedEx Points by Season')\n",
    "g1.savefig('y_hist_max.png', dpi=400)"
   ]
  },
  {
   "cell_type": "code",
   "execution_count": 80,
   "metadata": {},
   "outputs": [
    {
     "data": {
      "image/png": "[encoded data removed]",
      "text/plain": [
       "<Figure size 360x360 with 1 Axes>"
      ]
     },
     "metadata": {
      "needs_background": "light"
     },
     "output_type": "display_data"
    }
   ],
   "source": [
    "# Plot Mean FedEx Cup Points Across Seasons\n",
    "g2 = sns.catplot(x=\"SEASON\",y =\"MEAN\", data = stats_df_new, kind = \"bar\")\n",
    "g2.fig.suptitle('Mean FedEx Points by Season')\n",
    "g2.savefig('y_hist_mean.png', dpi=400)"
   ]
  },
  {
   "cell_type": "markdown",
   "metadata": {},
   "source": [
    "Since the regression will focus on predicting the following season's % of winning total won based on the previous year's stats, each row will need to have a reference to the following year's results. "
   ]
  },
  {
   "cell_type": "markdown",
   "metadata": {},
   "source": [
    "#### Create Next Season Columns"
   ]
  },
  {
   "cell_type": "code",
   "execution_count": 83,
   "metadata": {},
   "outputs": [],
   "source": [
    "# Create a next season column\n",
    "clean_data['SEASON_NEXT'] = clean_data['SEASON'].apply(lambda x: x+1)\n"
   ]
  },
  {
   "cell_type": "code",
   "execution_count": 84,
   "metadata": {},
   "outputs": [
    {
     "data": {
      "text/html": [
       "<div>\n",
       "<style scoped>\n",
       "    .dataframe tbody tr th:only-of-type {\n",
       "        vertical-align: middle;\n",
       "    }\n",
       "\n",
       "    .dataframe tbody tr th {\n",
       "        vertical-align: top;\n",
       "    }\n",
       "\n",
       "    .dataframe thead th {\n",
       "        text-align: right;\n",
       "    }\n",
       "</style>\n",
       "<table border=\"1\" class=\"dataframe\">\n",
       "  <thead>\n",
       "    <tr style=\"text-align: right;\">\n",
       "      <th></th>\n",
       "      <th>py</th>\n",
       "      <th>APPROACHES_FROM_100_125_YARDS</th>\n",
       "      <th>APPROACHES_FROM_100_125_YARDS_RGH</th>\n",
       "      <th>APPROACHES_FROM_125_150_YARDS</th>\n",
       "      <th>APPROACHES_FROM_125_150_YARDS_RGH</th>\n",
       "      <th>APPROACHES_FROM_150_175_YARDS</th>\n",
       "      <th>APPROACHES_FROM_150_175_YARDS_RGH</th>\n",
       "      <th>APPROACHES_FROM_175_200_YARDS</th>\n",
       "      <th>APPROACHES_FROM_175_200_YARDS_RGH</th>\n",
       "      <th>APPROACHES_FROM_200_225_YARDS</th>\n",
       "      <th>...</th>\n",
       "      <th>PUTTING_INSIDE_10ft</th>\n",
       "      <th>PUTTS_PER_ROUND</th>\n",
       "      <th>ROUGH_PROXIMITY</th>\n",
       "      <th>SAND_SAVE_PERCENTAGE</th>\n",
       "      <th>PLAYER</th>\n",
       "      <th>SEASON_x</th>\n",
       "      <th>PERCENTAGE_OF_WINNING_PTS_x</th>\n",
       "      <th>SEASON_NEXT</th>\n",
       "      <th>SEASON_y</th>\n",
       "      <th>PERCENTAGE_OF_WINNING_PTS_y</th>\n",
       "    </tr>\n",
       "  </thead>\n",
       "  <tbody>\n",
       "    <tr>\n",
       "      <th>0</th>\n",
       "      <td>2010_Aaron Baddeley</td>\n",
       "      <td>244</td>\n",
       "      <td>464</td>\n",
       "      <td>305</td>\n",
       "      <td>399</td>\n",
       "      <td>372</td>\n",
       "      <td>522</td>\n",
       "      <td>432</td>\n",
       "      <td>629</td>\n",
       "      <td>588</td>\n",
       "      <td>...</td>\n",
       "      <td>88.06</td>\n",
       "      <td>28.57</td>\n",
       "      <td>537</td>\n",
       "      <td>54.82</td>\n",
       "      <td>Aaron Baddeley</td>\n",
       "      <td>2010</td>\n",
       "      <td>0.260563</td>\n",
       "      <td>2011</td>\n",
       "      <td>2011</td>\n",
       "      <td>0.619622</td>\n",
       "    </tr>\n",
       "    <tr>\n",
       "      <th>1</th>\n",
       "      <td>2010_Adam Scott</td>\n",
       "      <td>192</td>\n",
       "      <td>300</td>\n",
       "      <td>247</td>\n",
       "      <td>468</td>\n",
       "      <td>304</td>\n",
       "      <td>437</td>\n",
       "      <td>349</td>\n",
       "      <td>581</td>\n",
       "      <td>459</td>\n",
       "      <td>...</td>\n",
       "      <td>83.05</td>\n",
       "      <td>30.07</td>\n",
       "      <td>494</td>\n",
       "      <td>53.04</td>\n",
       "      <td>Adam Scott</td>\n",
       "      <td>2010</td>\n",
       "      <td>0.509209</td>\n",
       "      <td>2011</td>\n",
       "      <td>2011</td>\n",
       "      <td>0.698846</td>\n",
       "    </tr>\n",
       "    <tr>\n",
       "      <th>2</th>\n",
       "      <td>2010_Alex Cejka</td>\n",
       "      <td>210</td>\n",
       "      <td>338</td>\n",
       "      <td>264</td>\n",
       "      <td>319</td>\n",
       "      <td>328</td>\n",
       "      <td>478</td>\n",
       "      <td>388</td>\n",
       "      <td>713</td>\n",
       "      <td>444</td>\n",
       "      <td>...</td>\n",
       "      <td>85.18</td>\n",
       "      <td>29.70</td>\n",
       "      <td>500</td>\n",
       "      <td>44.17</td>\n",
       "      <td>Alex Cejka</td>\n",
       "      <td>2010</td>\n",
       "      <td>0.264897</td>\n",
       "      <td>2011</td>\n",
       "      <td>2011</td>\n",
       "      <td>0.158972</td>\n",
       "    </tr>\n",
       "    <tr>\n",
       "      <th>3</th>\n",
       "      <td>2010_Alex Prugh</td>\n",
       "      <td>239</td>\n",
       "      <td>410</td>\n",
       "      <td>279</td>\n",
       "      <td>394</td>\n",
       "      <td>360</td>\n",
       "      <td>512</td>\n",
       "      <td>411</td>\n",
       "      <td>632</td>\n",
       "      <td>528</td>\n",
       "      <td>...</td>\n",
       "      <td>88.51</td>\n",
       "      <td>29.47</td>\n",
       "      <td>498</td>\n",
       "      <td>52.00</td>\n",
       "      <td>Alex Prugh</td>\n",
       "      <td>2010</td>\n",
       "      <td>0.284940</td>\n",
       "      <td>2011</td>\n",
       "      <td>2011</td>\n",
       "      <td>0.109654</td>\n",
       "    </tr>\n",
       "    <tr>\n",
       "      <th>4</th>\n",
       "      <td>2010_Andres Romero</td>\n",
       "      <td>295</td>\n",
       "      <td>385</td>\n",
       "      <td>278</td>\n",
       "      <td>392</td>\n",
       "      <td>331</td>\n",
       "      <td>497</td>\n",
       "      <td>393</td>\n",
       "      <td>515</td>\n",
       "      <td>417</td>\n",
       "      <td>...</td>\n",
       "      <td>87.93</td>\n",
       "      <td>28.93</td>\n",
       "      <td>494</td>\n",
       "      <td>47.46</td>\n",
       "      <td>Andres Romero</td>\n",
       "      <td>2010</td>\n",
       "      <td>0.226436</td>\n",
       "      <td>2011</td>\n",
       "      <td>2011</td>\n",
       "      <td>0.341553</td>\n",
       "    </tr>\n",
       "  </tbody>\n",
       "</table>\n",
       "<p>5 rows × 48 columns</p>\n",
       "</div>"
      ],
      "text/plain": [
       "                    py  APPROACHES_FROM_100_125_YARDS  \\\n",
       "0  2010_Aaron Baddeley                            244   \n",
       "1      2010_Adam Scott                            192   \n",
       "2      2010_Alex Cejka                            210   \n",
       "3      2010_Alex Prugh                            239   \n",
       "4   2010_Andres Romero                            295   \n",
       "\n",
       "   APPROACHES_FROM_100_125_YARDS_RGH  APPROACHES_FROM_125_150_YARDS  \\\n",
       "0                                464                            305   \n",
       "1                                300                            247   \n",
       "2                                338                            264   \n",
       "3                                410                            279   \n",
       "4                                385                            278   \n",
       "\n",
       "   APPROACHES_FROM_125_150_YARDS_RGH  APPROACHES_FROM_150_175_YARDS  \\\n",
       "0                                399                            372   \n",
       "1                                468                            304   \n",
       "2                                319                            328   \n",
       "3                                394                            360   \n",
       "4                                392                            331   \n",
       "\n",
       "   APPROACHES_FROM_150_175_YARDS_RGH  APPROACHES_FROM_175_200_YARDS  \\\n",
       "0                                522                            432   \n",
       "1                                437                            349   \n",
       "2                                478                            388   \n",
       "3                                512                            411   \n",
       "4                                497                            393   \n",
       "\n",
       "   APPROACHES_FROM_175_200_YARDS_RGH  APPROACHES_FROM_200_225_YARDS  ...  \\\n",
       "0                                629                            588  ...   \n",
       "1                                581                            459  ...   \n",
       "2                                713                            444  ...   \n",
       "3                                632                            528  ...   \n",
       "4                                515                            417  ...   \n",
       "\n",
       "   PUTTING_INSIDE_10ft  PUTTS_PER_ROUND  ROUGH_PROXIMITY  \\\n",
       "0                88.06            28.57              537   \n",
       "1                83.05            30.07              494   \n",
       "2                85.18            29.70              500   \n",
       "3                88.51            29.47              498   \n",
       "4                87.93            28.93              494   \n",
       "\n",
       "   SAND_SAVE_PERCENTAGE          PLAYER  SEASON_x  \\\n",
       "0                 54.82  Aaron Baddeley      2010   \n",
       "1                 53.04      Adam Scott      2010   \n",
       "2                 44.17      Alex Cejka      2010   \n",
       "3                 52.00      Alex Prugh      2010   \n",
       "4                 47.46   Andres Romero      2010   \n",
       "\n",
       "   PERCENTAGE_OF_WINNING_PTS_x  SEASON_NEXT  SEASON_y  \\\n",
       "0                     0.260563         2011      2011   \n",
       "1                     0.509209         2011      2011   \n",
       "2                     0.264897         2011      2011   \n",
       "3                     0.284940         2011      2011   \n",
       "4                     0.226436         2011      2011   \n",
       "\n",
       "   PERCENTAGE_OF_WINNING_PTS_y  \n",
       "0                     0.619622  \n",
       "1                     0.698846  \n",
       "2                     0.158972  \n",
       "3                     0.109654  \n",
       "4                     0.341553  \n",
       "\n",
       "[5 rows x 48 columns]"
      ]
     },
     "execution_count": 84,
     "metadata": {},
     "output_type": "execute_result"
    }
   ],
   "source": [
    "# Merge the next season column back into the df to provide the appropriate shift of results.\n",
    "clean_data = clean_data.merge(clean_data[['PLAYER','SEASON','PERCENTAGE_OF_WINNING_PTS']],\n",
    "                 left_on=['PLAYER','SEASON_NEXT'],\n",
    "                 right_on = ['PLAYER','SEASON'])\n",
    "clean_data.head()"
   ]
  },
  {
   "cell_type": "markdown",
   "metadata": {},
   "source": [
    "### Rename Merged Columns"
   ]
  },
  {
   "cell_type": "code",
   "execution_count": 85,
   "metadata": {},
   "outputs": [
    {
     "data": {
      "text/html": [
       "<div>\n",
       "<style scoped>\n",
       "    .dataframe tbody tr th:only-of-type {\n",
       "        vertical-align: middle;\n",
       "    }\n",
       "\n",
       "    .dataframe tbody tr th {\n",
       "        vertical-align: top;\n",
       "    }\n",
       "\n",
       "    .dataframe thead th {\n",
       "        text-align: right;\n",
       "    }\n",
       "</style>\n",
       "<table border=\"1\" class=\"dataframe\">\n",
       "  <thead>\n",
       "    <tr style=\"text-align: right;\">\n",
       "      <th></th>\n",
       "      <th>py</th>\n",
       "      <th>APPROACHES_FROM_100_125_YARDS</th>\n",
       "      <th>APPROACHES_FROM_100_125_YARDS_RGH</th>\n",
       "      <th>APPROACHES_FROM_125_150_YARDS</th>\n",
       "      <th>APPROACHES_FROM_125_150_YARDS_RGH</th>\n",
       "      <th>APPROACHES_FROM_150_175_YARDS</th>\n",
       "      <th>APPROACHES_FROM_150_175_YARDS_RGH</th>\n",
       "      <th>APPROACHES_FROM_175_200_YARDS</th>\n",
       "      <th>APPROACHES_FROM_175_200_YARDS_RGH</th>\n",
       "      <th>APPROACHES_FROM_200_225_YARDS</th>\n",
       "      <th>...</th>\n",
       "      <th>PUTTING_FROM_25ft_plus</th>\n",
       "      <th>PUTTING_INSIDE_10ft</th>\n",
       "      <th>PUTTS_PER_ROUND</th>\n",
       "      <th>ROUGH_PROXIMITY</th>\n",
       "      <th>SAND_SAVE_PERCENTAGE</th>\n",
       "      <th>PLAYER</th>\n",
       "      <th>SEASON_CURRENT</th>\n",
       "      <th>PERCENTAGE_OF_WINNING_PTS</th>\n",
       "      <th>SEASON_NEXT</th>\n",
       "      <th>NEXT_PERCENTAGE_OF_WINNING_PTS</th>\n",
       "    </tr>\n",
       "  </thead>\n",
       "  <tbody>\n",
       "    <tr>\n",
       "      <th>0</th>\n",
       "      <td>2010_Aaron Baddeley</td>\n",
       "      <td>244</td>\n",
       "      <td>464</td>\n",
       "      <td>305</td>\n",
       "      <td>399</td>\n",
       "      <td>372</td>\n",
       "      <td>522</td>\n",
       "      <td>432</td>\n",
       "      <td>629</td>\n",
       "      <td>588</td>\n",
       "      <td>...</td>\n",
       "      <td>5.96</td>\n",
       "      <td>88.06</td>\n",
       "      <td>28.57</td>\n",
       "      <td>537</td>\n",
       "      <td>54.82</td>\n",
       "      <td>Aaron Baddeley</td>\n",
       "      <td>2010</td>\n",
       "      <td>0.260563</td>\n",
       "      <td>2011</td>\n",
       "      <td>0.619622</td>\n",
       "    </tr>\n",
       "    <tr>\n",
       "      <th>1</th>\n",
       "      <td>2010_Adam Scott</td>\n",
       "      <td>192</td>\n",
       "      <td>300</td>\n",
       "      <td>247</td>\n",
       "      <td>468</td>\n",
       "      <td>304</td>\n",
       "      <td>437</td>\n",
       "      <td>349</td>\n",
       "      <td>581</td>\n",
       "      <td>459</td>\n",
       "      <td>...</td>\n",
       "      <td>6.28</td>\n",
       "      <td>83.05</td>\n",
       "      <td>30.07</td>\n",
       "      <td>494</td>\n",
       "      <td>53.04</td>\n",
       "      <td>Adam Scott</td>\n",
       "      <td>2010</td>\n",
       "      <td>0.509209</td>\n",
       "      <td>2011</td>\n",
       "      <td>0.698846</td>\n",
       "    </tr>\n",
       "    <tr>\n",
       "      <th>2</th>\n",
       "      <td>2010_Alex Cejka</td>\n",
       "      <td>210</td>\n",
       "      <td>338</td>\n",
       "      <td>264</td>\n",
       "      <td>319</td>\n",
       "      <td>328</td>\n",
       "      <td>478</td>\n",
       "      <td>388</td>\n",
       "      <td>713</td>\n",
       "      <td>444</td>\n",
       "      <td>...</td>\n",
       "      <td>4.58</td>\n",
       "      <td>85.18</td>\n",
       "      <td>29.70</td>\n",
       "      <td>500</td>\n",
       "      <td>44.17</td>\n",
       "      <td>Alex Cejka</td>\n",
       "      <td>2010</td>\n",
       "      <td>0.264897</td>\n",
       "      <td>2011</td>\n",
       "      <td>0.158972</td>\n",
       "    </tr>\n",
       "    <tr>\n",
       "      <th>3</th>\n",
       "      <td>2010_Alex Prugh</td>\n",
       "      <td>239</td>\n",
       "      <td>410</td>\n",
       "      <td>279</td>\n",
       "      <td>394</td>\n",
       "      <td>360</td>\n",
       "      <td>512</td>\n",
       "      <td>411</td>\n",
       "      <td>632</td>\n",
       "      <td>528</td>\n",
       "      <td>...</td>\n",
       "      <td>4.50</td>\n",
       "      <td>88.51</td>\n",
       "      <td>29.47</td>\n",
       "      <td>498</td>\n",
       "      <td>52.00</td>\n",
       "      <td>Alex Prugh</td>\n",
       "      <td>2010</td>\n",
       "      <td>0.284940</td>\n",
       "      <td>2011</td>\n",
       "      <td>0.109654</td>\n",
       "    </tr>\n",
       "    <tr>\n",
       "      <th>4</th>\n",
       "      <td>2010_Andres Romero</td>\n",
       "      <td>295</td>\n",
       "      <td>385</td>\n",
       "      <td>278</td>\n",
       "      <td>392</td>\n",
       "      <td>331</td>\n",
       "      <td>497</td>\n",
       "      <td>393</td>\n",
       "      <td>515</td>\n",
       "      <td>417</td>\n",
       "      <td>...</td>\n",
       "      <td>7.69</td>\n",
       "      <td>87.93</td>\n",
       "      <td>28.93</td>\n",
       "      <td>494</td>\n",
       "      <td>47.46</td>\n",
       "      <td>Andres Romero</td>\n",
       "      <td>2010</td>\n",
       "      <td>0.226436</td>\n",
       "      <td>2011</td>\n",
       "      <td>0.341553</td>\n",
       "    </tr>\n",
       "  </tbody>\n",
       "</table>\n",
       "<p>5 rows × 47 columns</p>\n",
       "</div>"
      ],
      "text/plain": [
       "                    py  APPROACHES_FROM_100_125_YARDS  \\\n",
       "0  2010_Aaron Baddeley                            244   \n",
       "1      2010_Adam Scott                            192   \n",
       "2      2010_Alex Cejka                            210   \n",
       "3      2010_Alex Prugh                            239   \n",
       "4   2010_Andres Romero                            295   \n",
       "\n",
       "   APPROACHES_FROM_100_125_YARDS_RGH  APPROACHES_FROM_125_150_YARDS  \\\n",
       "0                                464                            305   \n",
       "1                                300                            247   \n",
       "2                                338                            264   \n",
       "3                                410                            279   \n",
       "4                                385                            278   \n",
       "\n",
       "   APPROACHES_FROM_125_150_YARDS_RGH  APPROACHES_FROM_150_175_YARDS  \\\n",
       "0                                399                            372   \n",
       "1                                468                            304   \n",
       "2                                319                            328   \n",
       "3                                394                            360   \n",
       "4                                392                            331   \n",
       "\n",
       "   APPROACHES_FROM_150_175_YARDS_RGH  APPROACHES_FROM_175_200_YARDS  \\\n",
       "0                                522                            432   \n",
       "1                                437                            349   \n",
       "2                                478                            388   \n",
       "3                                512                            411   \n",
       "4                                497                            393   \n",
       "\n",
       "   APPROACHES_FROM_175_200_YARDS_RGH  APPROACHES_FROM_200_225_YARDS  ...  \\\n",
       "0                                629                            588  ...   \n",
       "1                                581                            459  ...   \n",
       "2                                713                            444  ...   \n",
       "3                                632                            528  ...   \n",
       "4                                515                            417  ...   \n",
       "\n",
       "   PUTTING_FROM_25ft_plus  PUTTING_INSIDE_10ft  PUTTS_PER_ROUND  \\\n",
       "0                    5.96                88.06            28.57   \n",
       "1                    6.28                83.05            30.07   \n",
       "2                    4.58                85.18            29.70   \n",
       "3                    4.50                88.51            29.47   \n",
       "4                    7.69                87.93            28.93   \n",
       "\n",
       "   ROUGH_PROXIMITY  SAND_SAVE_PERCENTAGE          PLAYER  SEASON_CURRENT  \\\n",
       "0              537                 54.82  Aaron Baddeley            2010   \n",
       "1              494                 53.04      Adam Scott            2010   \n",
       "2              500                 44.17      Alex Cejka            2010   \n",
       "3              498                 52.00      Alex Prugh            2010   \n",
       "4              494                 47.46   Andres Romero            2010   \n",
       "\n",
       "   PERCENTAGE_OF_WINNING_PTS  SEASON_NEXT  NEXT_PERCENTAGE_OF_WINNING_PTS  \n",
       "0                   0.260563         2011                        0.619622  \n",
       "1                   0.509209         2011                        0.698846  \n",
       "2                   0.264897         2011                        0.158972  \n",
       "3                   0.284940         2011                        0.109654  \n",
       "4                   0.226436         2011                        0.341553  \n",
       "\n",
       "[5 rows x 47 columns]"
      ]
     },
     "execution_count": 85,
     "metadata": {},
     "output_type": "execute_result"
    }
   ],
   "source": [
    "clean_data.rename(columns ={'PERCENTAGE_OF_WINNING_PTS_y':'NEXT_PERCENTAGE_OF_WINNING_PTS'},inplace = True)\n",
    "clean_data.rename(columns ={'SEASON_x':'SEASON_CURRENT'},inplace = True)\n",
    "clean_data.rename(columns ={'PERCENTAGE_OF_WINNING_PTS_x':'PERCENTAGE_OF_WINNING_PTS'},inplace = True)\n",
    "clean_data = clean_data.drop(['SEASON_y'], axis = 1)\n",
    "clean_data.head()"
   ]
  },
  {
   "cell_type": "markdown",
   "metadata": {},
   "source": [
    "### Re-check Data Types"
   ]
  },
  {
   "cell_type": "code",
   "execution_count": 86,
   "metadata": {},
   "outputs": [
    {
     "name": "stdout",
     "output_type": "stream",
     "text": [
      "<class 'pandas.core.frame.DataFrame'>\n",
      "Int64Index: 1228 entries, 0 to 1227\n",
      "Data columns (total 47 columns):\n",
      "py                                       1228 non-null object\n",
      "APPROACHES_FROM_100_125_YARDS            1228 non-null int64\n",
      "APPROACHES_FROM_100_125_YARDS_RGH        1228 non-null int64\n",
      "APPROACHES_FROM_125_150_YARDS            1228 non-null int64\n",
      "APPROACHES_FROM_125_150_YARDS_RGH        1228 non-null int64\n",
      "APPROACHES_FROM_150_175_YARDS            1228 non-null int64\n",
      "APPROACHES_FROM_150_175_YARDS_RGH        1228 non-null int64\n",
      "APPROACHES_FROM_175_200_YARDS            1228 non-null int64\n",
      "APPROACHES_FROM_175_200_YARDS_RGH        1228 non-null int64\n",
      "APPROACHES_FROM_200_225_YARDS            1228 non-null int64\n",
      "APPROACHES_FROM_200_225_YARDS_RGH        1228 non-null int64\n",
      "APPROACHES_FROM_225_250_YARDS            1228 non-null int64\n",
      "APPROACHES_FROM_225_250_YARDS_RGH        1228 non-null int64\n",
      "APPROACHES_FROM_250_275_YARDS            1228 non-null int64\n",
      "APPROACHES_FROM_250_275_YARDS_RGH        1228 non-null int64\n",
      "APPROACHES_FROM_INSIDE_100_YARDS         1228 non-null int64\n",
      "APPROACHES_FROM_INSIDE_100_YARDS_RGH     1228 non-null int64\n",
      "BIRDIE_AVE                               1228 non-null float64\n",
      "BIRDIE_OR_BETTER_CONVESION_PERCENTAGE    1228 non-null float64\n",
      "BIRDIE_OR_BETTER_PERCENTAGE              1228 non-null float64\n",
      "BIRDIE_OR_BETTER_PERCENTAGE_FAIRWAY      1228 non-null float64\n",
      "BIRDIE_OR_BETTER_PERCENTAGE_ROUGH        1228 non-null float64\n",
      "BOUNCE_BACK                              1228 non-null float64\n",
      "CLUB_HEAD_SPEED                          1228 non-null float64\n",
      "DRIVING_ACCURACY_PERCENTAGE              1228 non-null float64\n",
      "DRIVING_DISTANCE                         1228 non-null float64\n",
      "EAGLES_HOLES_PER                         1228 non-null float64\n",
      "FAIRWAY_PROXIMITY                        1228 non-null int64\n",
      "FEDEX_REGULAR_SEASON_POINTS              1228 non-null int64\n",
      "FINAL_ROUND_PERFORMANCE                  1228 non-null float64\n",
      "GREENS_IN_REGULATION_PERCENTAGE          1228 non-null float64\n",
      "PAR_3_SCORING_AVERAGE                    1228 non-null float64\n",
      "PAR_4_SCORING_AVERAGE                    1228 non-null float64\n",
      "PAR_5_SCORING_AVERAGE                    1228 non-null float64\n",
      "PUTTING_FROM_10_15ft                     1228 non-null float64\n",
      "PUTTING_FROM_15_20ft                     1228 non-null float64\n",
      "PUTTING_FROM_20_25ft                     1228 non-null float64\n",
      "PUTTING_FROM_25ft_plus                   1228 non-null float64\n",
      "PUTTING_INSIDE_10ft                      1228 non-null float64\n",
      "PUTTS_PER_ROUND                          1228 non-null float64\n",
      "ROUGH_PROXIMITY                          1228 non-null int64\n",
      "SAND_SAVE_PERCENTAGE                     1228 non-null float64\n",
      "PLAYER                                   1228 non-null object\n",
      "SEASON_CURRENT                           1228 non-null int64\n",
      "PERCENTAGE_OF_WINNING_PTS                1228 non-null float64\n",
      "SEASON_NEXT                              1228 non-null int64\n",
      "NEXT_PERCENTAGE_OF_WINNING_PTS           1228 non-null float64\n",
      "dtypes: float64(24), int64(21), object(2)\n",
      "memory usage: 460.5+ KB\n"
     ]
    }
   ],
   "source": [
    "# Check data types of each column\n",
    "clean_data.info()"
   ]
  },
  {
   "cell_type": "code",
   "execution_count": 87,
   "metadata": {},
   "outputs": [
    {
     "name": "stdout",
     "output_type": "stream",
     "text": [
      "<class 'pandas.core.frame.DataFrame'>\n",
      "Int64Index: 1228 entries, 0 to 1227\n",
      "Data columns (total 47 columns):\n",
      "py                                       1228 non-null object\n",
      "APPROACHES_FROM_100_125_YARDS            1228 non-null int64\n",
      "APPROACHES_FROM_100_125_YARDS_RGH        1228 non-null int64\n",
      "APPROACHES_FROM_125_150_YARDS            1228 non-null int64\n",
      "APPROACHES_FROM_125_150_YARDS_RGH        1228 non-null int64\n",
      "APPROACHES_FROM_150_175_YARDS            1228 non-null int64\n",
      "APPROACHES_FROM_150_175_YARDS_RGH        1228 non-null int64\n",
      "APPROACHES_FROM_175_200_YARDS            1228 non-null int64\n",
      "APPROACHES_FROM_175_200_YARDS_RGH        1228 non-null int64\n",
      "APPROACHES_FROM_200_225_YARDS            1228 non-null int64\n",
      "APPROACHES_FROM_200_225_YARDS_RGH        1228 non-null int64\n",
      "APPROACHES_FROM_225_250_YARDS            1228 non-null int64\n",
      "APPROACHES_FROM_225_250_YARDS_RGH        1228 non-null int64\n",
      "APPROACHES_FROM_250_275_YARDS            1228 non-null int64\n",
      "APPROACHES_FROM_250_275_YARDS_RGH        1228 non-null int64\n",
      "APPROACHES_FROM_INSIDE_100_YARDS         1228 non-null int64\n",
      "APPROACHES_FROM_INSIDE_100_YARDS_RGH     1228 non-null int64\n",
      "BIRDIE_AVE                               1228 non-null float64\n",
      "BIRDIE_OR_BETTER_CONVESION_PERCENTAGE    1228 non-null float64\n",
      "BIRDIE_OR_BETTER_PERCENTAGE              1228 non-null float64\n",
      "BIRDIE_OR_BETTER_PERCENTAGE_FAIRWAY      1228 non-null float64\n",
      "BIRDIE_OR_BETTER_PERCENTAGE_ROUGH        1228 non-null float64\n",
      "BOUNCE_BACK                              1228 non-null float64\n",
      "CLUB_HEAD_SPEED                          1228 non-null float64\n",
      "DRIVING_ACCURACY_PERCENTAGE              1228 non-null float64\n",
      "DRIVING_DISTANCE                         1228 non-null float64\n",
      "EAGLES_HOLES_PER                         1228 non-null float64\n",
      "FAIRWAY_PROXIMITY                        1228 non-null int64\n",
      "FEDEX_REGULAR_SEASON_POINTS              1228 non-null int64\n",
      "FINAL_ROUND_PERFORMANCE                  1228 non-null float64\n",
      "GREENS_IN_REGULATION_PERCENTAGE          1228 non-null float64\n",
      "PAR_3_SCORING_AVERAGE                    1228 non-null float64\n",
      "PAR_4_SCORING_AVERAGE                    1228 non-null float64\n",
      "PAR_5_SCORING_AVERAGE                    1228 non-null float64\n",
      "PUTTING_FROM_10_15ft                     1228 non-null float64\n",
      "PUTTING_FROM_15_20ft                     1228 non-null float64\n",
      "PUTTING_FROM_20_25ft                     1228 non-null float64\n",
      "PUTTING_FROM_25ft_plus                   1228 non-null float64\n",
      "PUTTING_INSIDE_10ft                      1228 non-null float64\n",
      "PUTTS_PER_ROUND                          1228 non-null float64\n",
      "ROUGH_PROXIMITY                          1228 non-null int64\n",
      "SAND_SAVE_PERCENTAGE                     1228 non-null float64\n",
      "PLAYER                                   1228 non-null object\n",
      "SEASON_CURRENT                           1228 non-null int64\n",
      "PERCENTAGE_OF_WINNING_PTS                1228 non-null float64\n",
      "SEASON_NEXT                              1228 non-null int64\n",
      "NEXT_PERCENTAGE_OF_WINNING_PTS           1228 non-null float64\n",
      "dtypes: float64(24), int64(21), object(2)\n",
      "memory usage: 460.5+ KB\n"
     ]
    }
   ],
   "source": [
    "# Convert Seasons to integers\n",
    "clean_data['SEASON_CURRENT']=clean_data['SEASON_CURRENT'].apply(lambda x: int(x))\n",
    "clean_data['SEASON_NEXT']=clean_data['SEASON_NEXT'].apply(lambda x: int(x))\n",
    "clean_data.info()"
   ]
  },
  {
   "cell_type": "markdown",
   "metadata": {},
   "source": [
    "# Pickle Final Dataframe"
   ]
  },
  {
   "cell_type": "code",
   "execution_count": 88,
   "metadata": {},
   "outputs": [],
   "source": [
    "clean_data.to_csv('full_dataset_percentage_win.csv', index = False)"
   ]
  }
 ],
 "metadata": {
  "kernelspec": {
   "display_name": "Python [conda env:metis] *",
   "language": "python",
   "name": "conda-env-metis-py"
  },
  "language_info": {
   "codemirror_mode": {
    "name": "ipython",
    "version": 3
   },
   "file_extension": ".py",
   "mimetype": "text/x-python",
   "name": "python",
   "nbconvert_exporter": "python",
   "pygments_lexer": "ipython3",
   "version": "3.7.4"
  },
  "toc": {
   "base_numbering": 1,
   "nav_menu": {},
   "number_sections": true,
   "sideBar": true,
   "skip_h1_title": false,
   "title_cell": "Table of Contents",
   "title_sidebar": "Contents",
   "toc_cell": false,
   "toc_position": {
    "height": "calc(100% - 180px)",
    "left": "10px",
    "top": "150px",
    "width": "348.212px"
   },
   "toc_section_display": true,
   "toc_window_display": true
  }
 },
 "nbformat": 4,
 "nbformat_minor": 2
}
